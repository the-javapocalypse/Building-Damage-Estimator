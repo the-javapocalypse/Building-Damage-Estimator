{
 "cells": [
  {
   "cell_type": "code",
   "execution_count": 1,
   "metadata": {
    "collapsed": true
   },
   "outputs": [],
   "source": [
    "from openpyxl import load_workbook\n",
    "import os"
   ]
  },
  {
   "cell_type": "code",
   "execution_count": 2,
   "metadata": {
    "collapsed": true
   },
   "outputs": [],
   "source": [
    "file_name = ['iraq_iran_earthquake_final_data.xlsx', 'srilanka_floods_final_data.xlsx', 'hurricane_maria_final_data.xlsx', 'hurricane_irma_final_data.xlsx', 'mexico_earthquake_final_data.xlsx', 'hurricane_harvey_final_data.xlsx', 'hurricane_harvey_final_data.xlsx']\n",
    "sheet_name = ['iraq_iran_earthquake_final_data', 'srilanka_floods_final_data', 'hurricane_maria_final_data', 'hurricane_irma_final_data', 'mexico_earthquake_final_data', 'hurricane_harvey_final_data', 'hurricane_harvey_final_data']\n"
   ]
  },
  {
   "cell_type": "code",
   "execution_count": null,
   "metadata": {
    "collapsed": true
   },
   "outputs": [],
   "source": []
  },
  {
   "cell_type": "code",
   "execution_count": 3,
   "metadata": {
    "collapsed": true
   },
   "outputs": [],
   "source": [
    "id_col = 'b'\n",
    "damage_col = 'k'"
   ]
  },
  {
   "cell_type": "code",
   "execution_count": 4,
   "metadata": {
    "collapsed": true
   },
   "outputs": [],
   "source": [
    "ids = []\n",
    "damage = []\n"
   ]
  },
  {
   "cell_type": "code",
   "execution_count": 5,
   "metadata": {},
   "outputs": [
    {
     "name": "stdout",
     "output_type": "stream",
     "text": [
      "Processed Rows:  100\n",
      "Processed Rows:  200\n",
      "Processed Rows:  300\n",
      "Processed Rows:  400\n",
      "Processed Rows:  500\n",
      "Processed Rows:  600\n",
      "Processed Rows:  100\n",
      "Processed Rows:  200\n",
      "Processed Rows:  300\n",
      "Processed Rows:  400\n",
      "Processed Rows:  500\n",
      "Processed Rows:  600\n",
      "Processed Rows:  700\n",
      "Processed Rows:  800\n",
      "Processed Rows:  900\n",
      "Processed Rows:  1000\n",
      "Processed Rows:  100\n",
      "Processed Rows:  200\n",
      "Processed Rows:  300\n",
      "Processed Rows:  400\n",
      "Processed Rows:  500\n",
      "Processed Rows:  600\n",
      "Processed Rows:  700\n",
      "Processed Rows:  800\n",
      "Processed Rows:  900\n",
      "Processed Rows:  1000\n",
      "Processed Rows:  1100\n",
      "Processed Rows:  1200\n",
      "Processed Rows:  1300\n",
      "Processed Rows:  1400\n",
      "Processed Rows:  1500\n",
      "Processed Rows:  1600\n",
      "Processed Rows:  1700\n",
      "Processed Rows:  1800\n",
      "Processed Rows:  1900\n",
      "Processed Rows:  2000\n",
      "Processed Rows:  2100\n",
      "Processed Rows:  2200\n",
      "Processed Rows:  2300\n",
      "Processed Rows:  2400\n",
      "Processed Rows:  2500\n",
      "Processed Rows:  2600\n",
      "Processed Rows:  2700\n",
      "Processed Rows:  2800\n",
      "Processed Rows:  2900\n",
      "Processed Rows:  3000\n",
      "Processed Rows:  3100\n",
      "Processed Rows:  3200\n",
      "Processed Rows:  3300\n",
      "Processed Rows:  3400\n",
      "Processed Rows:  3500\n",
      "Processed Rows:  3600\n",
      "Processed Rows:  3700\n",
      "Processed Rows:  3800\n",
      "Processed Rows:  3900\n",
      "Processed Rows:  4000\n",
      "Processed Rows:  4100\n",
      "Processed Rows:  4200\n",
      "Processed Rows:  4300\n",
      "Processed Rows:  4400\n",
      "Processed Rows:  4500\n",
      "Processed Rows:  100\n",
      "Processed Rows:  200\n",
      "Processed Rows:  300\n",
      "Processed Rows:  400\n",
      "Processed Rows:  500\n",
      "Processed Rows:  600\n",
      "Processed Rows:  700\n",
      "Processed Rows:  800\n",
      "Processed Rows:  900\n",
      "Processed Rows:  1000\n",
      "Processed Rows:  1100\n",
      "Processed Rows:  1200\n",
      "Processed Rows:  1300\n",
      "Processed Rows:  1400\n",
      "Processed Rows:  1500\n",
      "Processed Rows:  1600\n",
      "Processed Rows:  1700\n",
      "Processed Rows:  1800\n",
      "Processed Rows:  1900\n",
      "Processed Rows:  2000\n",
      "Processed Rows:  2100\n",
      "Processed Rows:  2200\n",
      "Processed Rows:  2300\n",
      "Processed Rows:  2400\n",
      "Processed Rows:  2500\n",
      "Processed Rows:  2600\n",
      "Processed Rows:  2700\n",
      "Processed Rows:  2800\n",
      "Processed Rows:  2900\n",
      "Processed Rows:  3000\n",
      "Processed Rows:  3100\n",
      "Processed Rows:  3200\n",
      "Processed Rows:  3300\n",
      "Processed Rows:  3400\n",
      "Processed Rows:  3500\n",
      "Processed Rows:  3600\n",
      "Processed Rows:  3700\n",
      "Processed Rows:  3800\n",
      "Processed Rows:  3900\n",
      "Processed Rows:  4000\n",
      "Processed Rows:  4100\n",
      "Processed Rows:  4200\n",
      "Processed Rows:  4300\n",
      "Processed Rows:  4400\n",
      "Processed Rows:  4500\n",
      "Processed Rows:  100\n",
      "Processed Rows:  200\n",
      "Processed Rows:  300\n",
      "Processed Rows:  400\n",
      "Processed Rows:  500\n",
      "Processed Rows:  600\n",
      "Processed Rows:  700\n",
      "Processed Rows:  800\n",
      "Processed Rows:  900\n",
      "Processed Rows:  1000\n",
      "Processed Rows:  1100\n",
      "Processed Rows:  1200\n",
      "Processed Rows:  1300\n",
      "Processed Rows:  100\n",
      "Processed Rows:  200\n",
      "Processed Rows:  300\n",
      "Processed Rows:  400\n",
      "Processed Rows:  500\n",
      "Processed Rows:  600\n",
      "Processed Rows:  700\n",
      "Processed Rows:  800\n",
      "Processed Rows:  900\n",
      "Processed Rows:  1000\n",
      "Processed Rows:  1100\n",
      "Processed Rows:  1200\n",
      "Processed Rows:  1300\n",
      "Processed Rows:  1400\n",
      "Processed Rows:  1500\n",
      "Processed Rows:  1600\n",
      "Processed Rows:  1700\n",
      "Processed Rows:  1800\n",
      "Processed Rows:  1900\n",
      "Processed Rows:  2000\n",
      "Processed Rows:  2100\n",
      "Processed Rows:  2200\n",
      "Processed Rows:  2300\n",
      "Processed Rows:  2400\n",
      "Processed Rows:  2500\n",
      "Processed Rows:  2600\n",
      "Processed Rows:  2700\n",
      "Processed Rows:  2800\n",
      "Processed Rows:  2900\n",
      "Processed Rows:  3000\n",
      "Processed Rows:  3100\n",
      "Processed Rows:  3200\n",
      "Processed Rows:  3300\n",
      "Processed Rows:  3400\n",
      "Processed Rows:  3500\n",
      "Processed Rows:  3600\n",
      "Processed Rows:  3700\n",
      "Processed Rows:  3800\n",
      "Processed Rows:  3900\n",
      "Processed Rows:  4000\n",
      "Processed Rows:  4100\n",
      "Processed Rows:  4200\n",
      "Processed Rows:  4300\n",
      "Processed Rows:  4400\n",
      "Processed Rows:  100\n",
      "Processed Rows:  200\n",
      "Processed Rows:  300\n",
      "Processed Rows:  400\n",
      "Processed Rows:  500\n",
      "Processed Rows:  600\n",
      "Processed Rows:  700\n",
      "Processed Rows:  800\n",
      "Processed Rows:  900\n",
      "Processed Rows:  1000\n",
      "Processed Rows:  1100\n",
      "Processed Rows:  1200\n",
      "Processed Rows:  1300\n",
      "Processed Rows:  1400\n",
      "Processed Rows:  1500\n",
      "Processed Rows:  1600\n",
      "Processed Rows:  1700\n",
      "Processed Rows:  1800\n",
      "Processed Rows:  1900\n",
      "Processed Rows:  2000\n",
      "Processed Rows:  2100\n",
      "Processed Rows:  2200\n",
      "Processed Rows:  2300\n",
      "Processed Rows:  2400\n",
      "Processed Rows:  2500\n",
      "Processed Rows:  2600\n",
      "Processed Rows:  2700\n",
      "Processed Rows:  2800\n",
      "Processed Rows:  2900\n",
      "Processed Rows:  3000\n",
      "Processed Rows:  3100\n",
      "Processed Rows:  3200\n",
      "Processed Rows:  3300\n",
      "Processed Rows:  3400\n",
      "Processed Rows:  3500\n",
      "Processed Rows:  3600\n",
      "Processed Rows:  3700\n",
      "Processed Rows:  3800\n",
      "Processed Rows:  3900\n",
      "Processed Rows:  4000\n",
      "Processed Rows:  4100\n",
      "Processed Rows:  4200\n",
      "Processed Rows:  4300\n",
      "Processed Rows:  4400\n"
     ]
    }
   ],
   "source": [
    "for idx, file in enumerate(file_name):\n",
    "    wb = load_workbook('annotations/'+file, data_only=True)\n",
    "    sh = wb[sheet_name[idx]]\n",
    "    row_count = sh.max_row\n",
    "    for i in range(2,row_count):\n",
    "        if ( i % 100 == 0):\n",
    "            print('Processed Rows: ', i)\n",
    "        if sh[ 'i' + str(i)].value == 'infrastructure_and_utility_damage':\n",
    "            ids.append(sh[ id_col + str(i)].value[:-2])\n",
    "            damage.append(sh[ damage_col + str(i)].value)"
   ]
  },
  {
   "cell_type": "code",
   "execution_count": 6,
   "metadata": {},
   "outputs": [
    {
     "name": "stdout",
     "output_type": "stream",
     "text": [
      "929996080498003968 little_or_no_damage\n",
      "{'little_or_no_damage', 'severe_damage', 'dont_know_or_cant_judge', 'mild_damage'}\n"
     ]
    }
   ],
   "source": [
    "print(ids[10], damage[10])\n",
    "print(set(damage))"
   ]
  },
  {
   "cell_type": "code",
   "execution_count": null,
   "metadata": {
    "collapsed": true
   },
   "outputs": [],
   "source": []
  },
  {
   "cell_type": "code",
   "execution_count": 7,
   "metadata": {
    "collapsed": true
   },
   "outputs": [],
   "source": [
    "punctuation = '''!\"$%&'()*+,-./:;<=>?@[\\]^_`{|}~'''\n",
    "\n",
    "def processText(x):\n",
    "    \n",
    "    ## Remove account username\n",
    "    x = ' '.join([i for i in x.split() if '@' not in i])\n",
    "    \n",
    "    ## Remove external links\n",
    "    x = ' '.join([i for i in x.split() if 'http' not in i])\n",
    "    \n",
    "    ## Remove punctuation\n",
    "    x = ''.join([i for i in x if i not in punctuation])\n",
    "    \n",
    "    return x"
   ]
  },
  {
   "cell_type": "code",
   "execution_count": 8,
   "metadata": {},
   "outputs": [
    {
     "name": "stdout",
     "output_type": "stream",
     "text": [
      "iraq_earthquake_final_data\n",
      "srilanka_floods_final_data\n",
      "hurricane_maria_final_data\n",
      "hurricane_irma_final_data\n",
      "mexico_earthquake_final_data\n",
      "hurricane_harvey_final_data\n",
      "hurricane_harvey_final_data\n",
      "18610\n"
     ]
    }
   ],
   "source": [
    "import json\n",
    "\n",
    "\n",
    "# with open('Tweets/json/iraq_earthquake_final_data.json', encoding='utf-8-sig') as json_file:\n",
    "#     text = json_file.read()\n",
    "#     print(text[-1500:])\n",
    "    \n",
    "\n",
    "json_file = ['iraq_earthquake_final_data', 'srilanka_floods_final_data', 'hurricane_maria_final_data', 'hurricane_irma_final_data', 'mexico_earthquake_final_data', 'hurricane_harvey_final_data', 'hurricane_harvey_final_data']\n",
    "data = []\n",
    "for name in json_file:\n",
    "    print(name)\n",
    "    with open('Tweets/json/'+name+'.json', encoding='utf-8-sig') as f:\n",
    "        for line in f:\n",
    "            try:\n",
    "                data.append(json.loads(line))\n",
    "            except:\n",
    "                pass\n",
    "        \n",
    "print(len(data))"
   ]
  },
  {
   "cell_type": "code",
   "execution_count": 9,
   "metadata": {
    "collapsed": true
   },
   "outputs": [],
   "source": [
    "# text = ['' for x in range(0,len(ids))]\n"
   ]
  },
  {
   "cell_type": "code",
   "execution_count": 17,
   "metadata": {
    "collapsed": true
   },
   "outputs": [],
   "source": [
    "file_path = \"tweets.xlsx\"\n",
    "workbook_name = \"data\"\n",
    "\n",
    "wb = load_workbook(file_path, data_only=True)\n",
    "ws = wb[workbook_name]"
   ]
  },
  {
   "cell_type": "code",
   "execution_count": 48,
   "metadata": {},
   "outputs": [],
   "source": [
    "row = 1\n",
    "\n",
    "\n",
    "for d in data:\n",
    "    if str(d['id']) in ids:\n",
    "        try:            \n",
    "            \n",
    "            if len(d['text']) > 1:\n",
    "                row += 1\n",
    "                ws['A'+ str(row)] = processText(d['text'])\n",
    "                ws['B'+ str(row)] = damage[int(ids.index(str(d['id'])))]\n",
    "        \n",
    "        except Exception as e:\n",
    "            print(e)"
   ]
  },
  {
   "cell_type": "code",
   "execution_count": 49,
   "metadata": {
    "collapsed": true
   },
   "outputs": [],
   "source": [
    "wb.save(file_path)"
   ]
  },
  {
   "cell_type": "code",
   "execution_count": null,
   "metadata": {
    "collapsed": true
   },
   "outputs": [],
   "source": []
  },
  {
   "cell_type": "code",
   "execution_count": null,
   "metadata": {
    "collapsed": true
   },
   "outputs": [],
   "source": []
  },
  {
   "cell_type": "code",
   "execution_count": null,
   "metadata": {},
   "outputs": [],
   "source": []
  },
  {
   "cell_type": "code",
   "execution_count": null,
   "metadata": {},
   "outputs": [],
   "source": []
  },
  {
   "cell_type": "code",
   "execution_count": null,
   "metadata": {},
   "outputs": [],
   "source": []
  },
  {
   "cell_type": "code",
   "execution_count": null,
   "metadata": {},
   "outputs": [],
   "source": []
  },
  {
   "cell_type": "code",
   "execution_count": null,
   "metadata": {
    "collapsed": true
   },
   "outputs": [],
   "source": []
  },
  {
   "cell_type": "code",
   "execution_count": 41,
   "metadata": {
    "collapsed": true
   },
   "outputs": [],
   "source": []
  },
  {
   "cell_type": "code",
   "execution_count": null,
   "metadata": {
    "collapsed": true
   },
   "outputs": [],
   "source": []
  }
 ],
 "metadata": {
  "kernelspec": {
   "display_name": "Python 3",
   "language": "python",
   "name": "python3"
  },
  "language_info": {
   "codemirror_mode": {
    "name": "ipython",
    "version": 3
   },
   "file_extension": ".py",
   "mimetype": "text/x-python",
   "name": "python",
   "nbconvert_exporter": "python",
   "pygments_lexer": "ipython3",
   "version": "3.6.1"
  }
 },
 "nbformat": 4,
 "nbformat_minor": 2
}
