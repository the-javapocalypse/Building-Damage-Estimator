{
 "cells": [
  {
   "cell_type": "markdown",
   "metadata": {
    "collapsed": true
   },
   "source": [
    "# Traing Model Through Transfer Learning (VGG 16)\n",
    "\n",
    "---\n",
    "\n",
    "## Description\n",
    "This script will train the model using Transfer Learning (VGG 16) to do binary classification for classes:\n",
    "* Damaged\n",
    "* Preserved\n",
    "\n",
    "This should provide us a good starting point and set standards for base accuracy.\n",
    "\n",
    "## About Dataset\n",
    "164 images will be the part of training set and 20 images for the test set. This dataset is created manually to improve model's accuracy. Following is hierarchy for dataset folder.\n",
    "\n",
    "```\n",
    "project   \n",
    "│\n",
    "└───dataset\n",
    "│   │\n",
    "│   └───test_set\n",
    "│   │   │\n",
    "│   │   └───damaged (10 images)\n",
    "│   │   │   83.jpg\n",
    "│   │   │   84.jpg\n",
    "│   │   │   ...\n",
    "│   │   │\n",
    "│   │   └───preserved (10 images)\n",
    "│   │       83.jpg\n",
    "│   │       84.jpg\n",
    "│   │       ...\n",
    "│   │  \n",
    "│   └───training_set\n",
    "│       │\n",
    "│       └───damaged (82 images)\n",
    "│       │   1.jpg\n",
    "│       │   2.jpg\n",
    "│       │   ...\n",
    "│       │\n",
    "│       └───preserved (82 images)\n",
    "│           1.jpg\n",
    "│           2.jpg\n",
    "│           ...\n",
    "│     \n",
    "```\n",
    "\n",
    "\n",
    "\n",
    "## Dataset Source\n",
    "Dataset can be downloaded from Google Drive or ask Muhammad Ali for dataset related to this specific version.\n",
    "\n",
    "\n",
    "## Training Results\n",
    "The model showed __0.658% Loss__ & __0.899% Accuracy__ on validation data during training with following parameters\n",
    "* batch_size = 2\n",
    "* epochs = 50\n",
    "* train_samples = 164\n",
    "* validation_samples = 20\n",
    "\n",
    "\n",
    "### NOTE\n",
    "This model is trained using the images of __EARTHQUAKE__ only.\n",
    "\n"
   ]
  },
  {
   "cell_type": "code",
   "execution_count": null,
   "metadata": {},
   "outputs": [
    {
     "name": "stderr",
     "output_type": "stream",
     "text": [
      "C:\\Users\\Javapocalypse\\Anaconda3\\lib\\site-packages\\h5py\\__init__.py:34: FutureWarning: Conversion of the second argument of issubdtype from `float` to `np.floating` is deprecated. In future, it will be treated as `np.float64 == np.dtype(float).type`.\n",
      "  from ._conv import register_converters as _register_converters\n",
      "Using TensorFlow backend.\n"
     ]
    }
   ],
   "source": [
    "import os\n",
    "import numpy as np\n",
    "from keras.models import Sequential\n",
    "from keras.layers import Activation, Dropout, Flatten, Dense\n",
    "from keras.preprocessing.image import ImageDataGenerator\n",
    "from keras.layers import Convolution2D, MaxPooling2D, ZeroPadding2D\n",
    "from keras import optimizers\n",
    "from keras import applications\n",
    "from keras.models import Model\n",
    "\n",
    "# dimensions of our images.\n",
    "img_width, img_height = 150, 150\n",
    "\n",
    "train_data_dir = 'dataset/training_set'\n",
    "validation_data_dir = 'dataset/test_set'\n",
    "\n",
    "batch_size = 2\n",
    "epochs = 50\n",
    "train_samples = 164\n",
    "validation_samples = 20"
   ]
  },
  {
   "cell_type": "code",
   "execution_count": 2,
   "metadata": {
    "collapsed": true
   },
   "outputs": [],
   "source": [
    "model_vgg = applications.VGG16(include_top=False)\n",
    "\n"
   ]
  },
  {
   "cell_type": "code",
   "execution_count": 3,
   "metadata": {},
   "outputs": [
    {
     "name": "stdout",
     "output_type": "stream",
     "text": [
      "Found 164 images belonging to 2 classes.\n",
      "Found 20 images belonging to 2 classes.\n"
     ]
    }
   ],
   "source": [
    "datagen = ImageDataGenerator(rescale=1. / 255)\n",
    "\n",
    "train_generator_bottleneck = datagen.flow_from_directory(\n",
    "        train_data_dir,\n",
    "        target_size=(img_width, img_height),\n",
    "        batch_size=batch_size,\n",
    "        class_mode=None,\n",
    "        shuffle=False)\n",
    "\n",
    "validation_generator_bottleneck = datagen.flow_from_directory(\n",
    "        validation_data_dir,\n",
    "        target_size=(img_width, img_height),\n",
    "        batch_size=batch_size,\n",
    "        class_mode=None,\n",
    "        shuffle=False)\n"
   ]
  },
  {
   "cell_type": "code",
   "execution_count": 4,
   "metadata": {
    "collapsed": true
   },
   "outputs": [],
   "source": [
    "bottleneck_features_train = model_vgg.predict_generator(train_generator_bottleneck, train_samples // batch_size)\n",
    "np.save(open('bottleneck_features_train.npy', 'wb+'), bottleneck_features_train)"
   ]
  },
  {
   "cell_type": "code",
   "execution_count": 5,
   "metadata": {
    "collapsed": true
   },
   "outputs": [],
   "source": [
    "bottleneck_features_validation = model_vgg.predict_generator(validation_generator_bottleneck, validation_samples // batch_size)\n",
    "np.save(open('bottleneck_features_validation.npy', 'wb'), bottleneck_features_validation)"
   ]
  },
  {
   "cell_type": "code",
   "execution_count": 6,
   "metadata": {
    "collapsed": true
   },
   "outputs": [],
   "source": [
    "train_data = np.load(open('bottleneck_features_train.npy', 'rb'))\n",
    "train_labels = np.array([0] * (train_samples // 2) + [1] * (train_samples // 2))\n",
    "\n",
    "validation_data = np.load(open('bottleneck_features_validation.npy', 'rb'))\n",
    "validation_labels = np.array([0] * (validation_samples // 2) + [1] * (validation_samples // 2))"
   ]
  },
  {
   "cell_type": "code",
   "execution_count": 7,
   "metadata": {
    "collapsed": true
   },
   "outputs": [],
   "source": [
    "model_top = Sequential()\n",
    "model_top.add(Flatten(input_shape=train_data.shape[1:]))\n",
    "model_top.add(Dense(256, activation='relu'))\n",
    "model_top.add(Dropout(0.5))\n",
    "model_top.add(Dense(1, activation='sigmoid'))\n",
    "\n",
    "model_top.compile(optimizer='rmsprop', loss='binary_crossentropy', metrics=['accuracy'])"
   ]
  },
  {
   "cell_type": "code",
   "execution_count": 8,
   "metadata": {},
   "outputs": [
    {
     "name": "stdout",
     "output_type": "stream",
     "text": [
      "Train on 164 samples, validate on 20 samples\n",
      "Epoch 1/50\n",
      "164/164 [==============================] - 2s 13ms/step - loss: 1.2179 - acc: 0.6768 - val_loss: 0.9009 - val_acc: 0.6500\n",
      "Epoch 2/50\n",
      "164/164 [==============================] - 0s 3ms/step - loss: 0.6616 - acc: 0.7866 - val_loss: 0.3203 - val_acc: 0.8500\n",
      "Epoch 3/50\n",
      "164/164 [==============================] - 0s 3ms/step - loss: 0.3597 - acc: 0.8415 - val_loss: 0.3235 - val_acc: 0.8500\n",
      "Epoch 4/50\n",
      "164/164 [==============================] - 0s 3ms/step - loss: 0.4704 - acc: 0.8598 - val_loss: 0.6956 - val_acc: 0.7000\n",
      "Epoch 5/50\n",
      "164/164 [==============================] - 0s 3ms/step - loss: 0.2444 - acc: 0.9573 - val_loss: 0.4566 - val_acc: 0.8500\n",
      "Epoch 6/50\n",
      "164/164 [==============================] - 0s 3ms/step - loss: 0.2303 - acc: 0.9085 - val_loss: 0.4377 - val_acc: 0.8500\n",
      "Epoch 7/50\n",
      "164/164 [==============================] - 0s 3ms/step - loss: 0.2095 - acc: 0.9024 - val_loss: 0.5584 - val_acc: 0.7000\n",
      "Epoch 8/50\n",
      "164/164 [==============================] - 0s 3ms/step - loss: 0.1414 - acc: 0.9512 - val_loss: 0.3962 - val_acc: 0.9000\n",
      "Epoch 9/50\n",
      "164/164 [==============================] - 0s 3ms/step - loss: 0.1171 - acc: 0.9512 - val_loss: 0.3018 - val_acc: 0.9000\n",
      "Epoch 10/50\n",
      "164/164 [==============================] - 0s 3ms/step - loss: 0.0889 - acc: 0.9695 - val_loss: 0.5255 - val_acc: 0.8500\n",
      "Epoch 11/50\n",
      "164/164 [==============================] - 0s 3ms/step - loss: 0.0776 - acc: 0.9695 - val_loss: 0.7224 - val_acc: 0.8000\n",
      "Epoch 12/50\n",
      "164/164 [==============================] - 0s 3ms/step - loss: 0.0695 - acc: 0.9756 - val_loss: 0.4537 - val_acc: 0.8500\n",
      "Epoch 13/50\n",
      "164/164 [==============================] - 0s 3ms/step - loss: 0.0640 - acc: 0.9817 - val_loss: 0.4401 - val_acc: 0.8500\n",
      "Epoch 14/50\n",
      "164/164 [==============================] - 0s 3ms/step - loss: 0.0125 - acc: 0.9939 - val_loss: 0.4578 - val_acc: 0.8500\n",
      "Epoch 15/50\n",
      "164/164 [==============================] - 0s 3ms/step - loss: 0.0242 - acc: 0.9939 - val_loss: 0.4845 - val_acc: 0.8500\n",
      "Epoch 16/50\n",
      "164/164 [==============================] - 0s 3ms/step - loss: 0.0294 - acc: 0.9939 - val_loss: 0.5114 - val_acc: 0.8500\n",
      "Epoch 17/50\n",
      "164/164 [==============================] - 0s 3ms/step - loss: 0.0276 - acc: 0.9939 - val_loss: 0.4018 - val_acc: 0.8500\n",
      "Epoch 18/50\n",
      "164/164 [==============================] - 0s 3ms/step - loss: 0.0054 - acc: 1.0000 - val_loss: 0.4920 - val_acc: 0.8500\n",
      "Epoch 19/50\n",
      "164/164 [==============================] - 0s 3ms/step - loss: 0.0077 - acc: 0.9939 - val_loss: 0.3265 - val_acc: 0.8500\n",
      "Epoch 20/50\n",
      "164/164 [==============================] - 0s 3ms/step - loss: 0.0195 - acc: 0.9939 - val_loss: 0.4018 - val_acc: 0.9000\n",
      "Epoch 21/50\n",
      "164/164 [==============================] - 0s 3ms/step - loss: 0.0325 - acc: 0.9878 - val_loss: 0.9750 - val_acc: 0.8000\n",
      "Epoch 22/50\n",
      "164/164 [==============================] - 0s 3ms/step - loss: 0.0145 - acc: 0.9939 - val_loss: 0.6115 - val_acc: 0.8500\n",
      "Epoch 23/50\n",
      "164/164 [==============================] - 0s 3ms/step - loss: 1.2982e-04 - acc: 1.0000 - val_loss: 1.4298 - val_acc: 0.8000\n",
      "Epoch 24/50\n",
      "164/164 [==============================] - 0s 3ms/step - loss: 0.0179 - acc: 0.9939 - val_loss: 1.7569 - val_acc: 0.7000\n",
      "Epoch 25/50\n",
      "164/164 [==============================] - 0s 3ms/step - loss: 0.0040 - acc: 1.0000 - val_loss: 0.5622 - val_acc: 0.8500\n",
      "Epoch 26/50\n",
      "164/164 [==============================] - 0s 3ms/step - loss: 2.7178e-04 - acc: 1.0000 - val_loss: 0.8907 - val_acc: 0.9000\n",
      "Epoch 27/50\n",
      "164/164 [==============================] - 0s 3ms/step - loss: 6.0365e-04 - acc: 1.0000 - val_loss: 0.6928 - val_acc: 0.8500\n",
      "Epoch 28/50\n",
      "164/164 [==============================] - 0s 3ms/step - loss: 0.0176 - acc: 0.9939 - val_loss: 0.6608 - val_acc: 0.8500\n",
      "Epoch 29/50\n",
      "164/164 [==============================] - 0s 3ms/step - loss: 5.2635e-06 - acc: 1.0000 - val_loss: 0.6875 - val_acc: 0.8500\n",
      "Epoch 30/50\n",
      "164/164 [==============================] - 0s 3ms/step - loss: 9.2204e-04 - acc: 1.0000 - val_loss: 0.5877 - val_acc: 0.9000\n",
      "Epoch 31/50\n",
      "164/164 [==============================] - 0s 3ms/step - loss: 2.9045e-06 - acc: 1.0000 - val_loss: 0.6432 - val_acc: 0.8500\n",
      "Epoch 32/50\n",
      "164/164 [==============================] - 0s 3ms/step - loss: 9.0871e-06 - acc: 1.0000 - val_loss: 1.0380 - val_acc: 0.8500\n",
      "Epoch 33/50\n",
      "164/164 [==============================] - 0s 2ms/step - loss: 3.4507e-05 - acc: 1.0000 - val_loss: 0.7450 - val_acc: 0.9000\n",
      "Epoch 34/50\n",
      "164/164 [==============================] - 0s 3ms/step - loss: 6.2674e-04 - acc: 1.0000 - val_loss: 1.0287 - val_acc: 0.8500\n",
      "Epoch 35/50\n",
      "164/164 [==============================] - 0s 3ms/step - loss: 0.0032 - acc: 1.0000 - val_loss: 0.8378 - val_acc: 0.9000\n",
      "Epoch 36/50\n",
      "164/164 [==============================] - 0s 3ms/step - loss: 8.2632e-06 - acc: 1.0000 - val_loss: 0.4446 - val_acc: 0.8500\n",
      "Epoch 37/50\n",
      "164/164 [==============================] - 0s 3ms/step - loss: 2.8576e-06 - acc: 1.0000 - val_loss: 0.5218 - val_acc: 0.9500\n",
      "Epoch 38/50\n",
      "164/164 [==============================] - 0s 3ms/step - loss: 5.5395e-05 - acc: 1.0000 - val_loss: 0.5542 - val_acc: 0.8500\n",
      "Epoch 39/50\n",
      "164/164 [==============================] - 0s 3ms/step - loss: 5.8943e-05 - acc: 1.0000 - val_loss: 0.4887 - val_acc: 0.9500\n",
      "Epoch 40/50\n",
      "164/164 [==============================] - 0s 3ms/step - loss: 1.5594e-05 - acc: 1.0000 - val_loss: 0.4950 - val_acc: 0.9500\n",
      "Epoch 41/50\n",
      "164/164 [==============================] - 0s 3ms/step - loss: 9.8818e-07 - acc: 1.0000 - val_loss: 0.5759 - val_acc: 0.9500\n",
      "Epoch 42/50\n",
      "164/164 [==============================] - 0s 3ms/step - loss: 2.9811e-05 - acc: 1.0000 - val_loss: 0.5899 - val_acc: 0.8500\n",
      "Epoch 43/50\n",
      "164/164 [==============================] - 0s 2ms/step - loss: 4.9604e-07 - acc: 1.0000 - val_loss: 0.5682 - val_acc: 0.9500\n",
      "Epoch 44/50\n",
      "164/164 [==============================] - 0s 3ms/step - loss: 5.0727e-07 - acc: 1.0000 - val_loss: 0.6689 - val_acc: 0.8500\n",
      "Epoch 45/50\n",
      "164/164 [==============================] - 0s 3ms/step - loss: 2.7646e-06 - acc: 1.0000 - val_loss: 0.7259 - val_acc: 0.8500\n",
      "Epoch 46/50\n",
      "164/164 [==============================] - 0s 3ms/step - loss: 3.5558e-07 - acc: 1.0000 - val_loss: 1.0605 - val_acc: 0.9000\n",
      "Epoch 47/50\n",
      "164/164 [==============================] - 0s 3ms/step - loss: 4.4881e-05 - acc: 1.0000 - val_loss: 0.6575 - val_acc: 0.9000\n",
      "Epoch 48/50\n",
      "164/164 [==============================] - 0s 3ms/step - loss: 2.2548e-07 - acc: 1.0000 - val_loss: 0.7892 - val_acc: 0.9500\n",
      "Epoch 49/50\n",
      "164/164 [==============================] - 0s 3ms/step - loss: 3.4017e-07 - acc: 1.0000 - val_loss: 0.6866 - val_acc: 0.9500\n",
      "Epoch 50/50\n",
      "164/164 [==============================] - 0s 3ms/step - loss: 8.2653e-05 - acc: 1.0000 - val_loss: 0.6584 - val_acc: 0.9000\n"
     ]
    },
    {
     "data": {
      "text/plain": [
       "<keras.callbacks.History at 0x22d2acd97f0>"
      ]
     },
     "execution_count": 8,
     "metadata": {},
     "output_type": "execute_result"
    }
   ],
   "source": [
    "\n",
    "model_top.fit(train_data, train_labels,\n",
    "        epochs=epochs, \n",
    "        batch_size=batch_size,\n",
    "        validation_data=(validation_data, validation_labels))"
   ]
  },
  {
   "cell_type": "code",
   "execution_count": 9,
   "metadata": {
    "collapsed": true
   },
   "outputs": [],
   "source": [
    "model_top.save_weights('bottleneck_50_epochs.h5')"
   ]
  },
  {
   "cell_type": "code",
   "execution_count": 10,
   "metadata": {},
   "outputs": [
    {
     "name": "stdout",
     "output_type": "stream",
     "text": [
      "\r",
      "20/20 [==============================] - 0s 226us/step\n"
     ]
    },
    {
     "data": {
      "text/plain": [
       "[0.6583938598632812, 0.8999999761581421]"
      ]
     },
     "execution_count": 10,
     "metadata": {},
     "output_type": "execute_result"
    }
   ],
   "source": [
    "model_top.evaluate(validation_data, validation_labels)"
   ]
  }
 ],
 "metadata": {
  "kernelspec": {
   "display_name": "Python 3",
   "language": "python",
   "name": "python3"
  },
  "language_info": {
   "codemirror_mode": {
    "name": "ipython",
    "version": 3
   },
   "file_extension": ".py",
   "mimetype": "text/x-python",
   "name": "python",
   "nbconvert_exporter": "python",
   "pygments_lexer": "ipython3",
   "version": "3.6.1"
  }
 },
 "nbformat": 4,
 "nbformat_minor": 2
}
