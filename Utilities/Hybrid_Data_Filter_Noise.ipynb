{
 "cells": [
  {
   "cell_type": "code",
   "execution_count": 1,
   "metadata": {},
   "outputs": [],
   "source": [
    "from openpyxl import load_workbook\n",
    "import os\n",
    "import pandas as pd"
   ]
  },
  {
   "cell_type": "code",
   "execution_count": 2,
   "metadata": {},
   "outputs": [],
   "source": [
    "files = {'H:/FYP DATASETS/FYP DATASETS/Crisis/annotations/mexico_earthquake_final_data.xlsx',\n",
    "         'H:/FYP DATASETS/FYP DATASETS/Crisis/annotations/iraq_iran_earthquake_final_data.xlsx',\n",
    "         'H:/FYP DATASETS/FYP DATASETS/Crisis/annotations/hurricane_irma_final_data.xlsx',\n",
    "         'H:/FYP DATASETS/FYP DATASETS/Crisis/annotations/srilanka_floods_final_data.xlsx',\n",
    "         'H:/FYP DATASETS/FYP DATASETS/Crisis/annotations/hurricane_maria_final_data.xlsx',\n",
    "         'H:/FYP DATASETS/FYP DATASETS/Crisis/annotations/hurricane_harvey_final_data.xlsx',\n",
    "         'H:/FYP DATASETS/FYP DATASETS/Crisis/annotations/california_wildfires_final_data.xlsx'}\n",
    "sheet_name = 'Sheet 1'\n",
    "\n",
    "severe_damage = 'filtered/crisis/severe_damage/'\n",
    "mild_damage = 'filtered/crisis/mild_damage/'\n",
    "little_damage = 'filtered/crisis/little_damage/'\n",
    "dont_know = 'filtered/crisis/dont_know/'"
   ]
  },
  {
   "cell_type": "code",
   "execution_count": 3,
   "metadata": {},
   "outputs": [
    {
     "name": "stdout",
     "output_type": "stream",
     "text": [
      "<bound method NDFrame.head of Empty DataFrame\n",
      "Columns: [text, text_info, image_path, damage]\n",
      "Index: []>\n"
     ]
    }
   ],
   "source": [
    "df = pd.DataFrame(columns=['text', 'text_info', 'image_path', 'damage'])\n",
    "print(df.head)"
   ]
  },
  {
   "cell_type": "code",
   "execution_count": 4,
   "metadata": {},
   "outputs": [],
   "source": [
    "image_path = 'O'\n",
    "tweet_text = 'M'\n",
    "image_damage = 'K'\n",
    "image_type = 'I'\n",
    "text_info = 'C'"
   ]
  },
  {
   "cell_type": "code",
   "execution_count": 5,
   "metadata": {},
   "outputs": [],
   "source": [
    "damages_scale = ['severe_damage', 'mild_damage', 'little_or_no_damage']\n",
    "text_class = ['informative', 'not_informative']\n",
    "for file in files:\n",
    "    wb = load_workbook(file, data_only=True)\n",
    "    sh = wb[sheet_name]\n",
    "    row_count = sh.max_row\n",
    "    for i in range(3,row_count):\n",
    "        if sh[text_info + str(i)].value in text_class:\n",
    "            if sh[image_type + str(i)].value == 'infrastructure_and_utility_damage':\n",
    "                if sh[image_damage + str(i)].value in damages_scale:\n",
    "                    df = df.append({'text' : sh[tweet_text + str(i)].value,\n",
    "                                        'text_info' : sh[text_info + str(i)].value,\n",
    "                                        'image_path' : sh[image_path + str(i)].value,\n",
    "                                        'damage': sh[image_damage + str(i)].value}, ignore_index=True)\n",
    "            else:\n",
    "                df = df.append({'text' : sh[tweet_text + str(i)].value,\n",
    "                                    'text_info' : sh[text_info + str(i)].value,\n",
    "                                    'image_path' : sh[image_path + str(i)].value,\n",
    "                                    'damage': 'irrelevant'}, ignore_index=True)\n"
   ]
  },
  {
   "cell_type": "code",
   "execution_count": 6,
   "metadata": {},
   "outputs": [
    {
     "name": "stdout",
     "output_type": "stream",
     "text": [
      "informative text  count 5222\n",
      "damage scale count 3533\n",
      "\n",
      "\n",
      "\n",
      "irrelevant             14480\n",
      "severe_damage           2216\n",
      "mild_damage              842\n",
      "little_or_no_damage      475\n",
      "Name: damage, dtype: int64\n"
     ]
    }
   ],
   "source": [
    "df = df.sample(frac=1).reset_index(drop=True)\n",
    "informative_count = 0\n",
    "scale_count = 0\n",
    "# print(df.head)\n",
    "for index, row in df.iterrows():\n",
    "    if row['text_info']!= 'informative':\n",
    "        informative_count += 1\n",
    "    if row['damage'] in damages_scale:\n",
    "        scale_count += 1\n",
    "    \n",
    "print('informative text  count ' + str(informative_count))\n",
    "print('damage scale count ' + str(scale_count))\n",
    "print('\\n\\n')\n",
    "\n",
    "print(df['damage'].value_counts())\n"
   ]
  },
  {
   "cell_type": "code",
   "execution_count": 7,
   "metadata": {},
   "outputs": [
    {
     "name": "stdout",
     "output_type": "stream",
     "text": [
      "dataframe saved\n"
     ]
    }
   ],
   "source": [
    "df.to_pickle(\"./dataset.pkl\")\n",
    "print(\"dataframe saved\")"
   ]
  },
  {
   "cell_type": "code",
   "execution_count": 8,
   "metadata": {},
   "outputs": [
    {
     "name": "stdout",
     "output_type": "stream",
     "text": [
      "text          Raginâ€™ Cajun athletes reaching out and helpi...\n",
      "text_info                                           informative\n",
      "image_path    data_image/hurricane_harvey/15_9_2017/90855601...\n",
      "damage                                               irrelevant\n",
      "Name: 1, dtype: object\n"
     ]
    }
   ],
   "source": [
    "print(df.iloc[1])"
   ]
  },
  {
   "cell_type": "code",
   "execution_count": 9,
   "metadata": {},
   "outputs": [],
   "source": [
    "# df_sorted = df.sort_values(by=['text_info'], ascending = False)"
   ]
  },
  {
   "cell_type": "code",
   "execution_count": 10,
   "metadata": {},
   "outputs": [
    {
     "name": "stdout",
     "output_type": "stream",
     "text": [
      "['irrelevant' 'severe_damage' 'mild_damage' 'little_or_no_damage']\n",
      "['informative' 'not_informative']\n"
     ]
    }
   ],
   "source": [
    "print(df.damage.unique())\n",
    "print(df.text_info.unique())"
   ]
  },
  {
   "cell_type": "markdown",
   "metadata": {},
   "source": [
    "informative text  count 5229\n",
    "damage scale count 3533\n",
    "text          18020\n",
    "text_info     18020\n",
    "image_path    18020\n",
    "damage        18020\n",
    "dtype: int64"
   ]
  }
 ],
 "metadata": {
  "kernelspec": {
   "display_name": "Python 3",
   "language": "python",
   "name": "python3"
  },
  "language_info": {
   "codemirror_mode": {
    "name": "ipython",
    "version": 3
   },
   "file_extension": ".py",
   "mimetype": "text/x-python",
   "name": "python",
   "nbconvert_exporter": "python",
   "pygments_lexer": "ipython3",
   "version": "3.6.8"
  }
 },
 "nbformat": 4,
 "nbformat_minor": 2
}
