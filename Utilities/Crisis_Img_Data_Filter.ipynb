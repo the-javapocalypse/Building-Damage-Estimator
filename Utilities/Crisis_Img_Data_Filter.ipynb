{
 "cells": [
  {
   "cell_type": "code",
   "execution_count": 73,
   "metadata": {
    "collapsed": true
   },
   "outputs": [],
   "source": [
    "from openpyxl import load_workbook\n",
    "import os"
   ]
  },
  {
   "cell_type": "code",
   "execution_count": 74,
   "metadata": {
    "collapsed": true
   },
   "outputs": [],
   "source": [
    "file_name = 'Crisis/annotations/iraq_iran_earthquake_final_data.xlsx'\n",
    "sheet_name = 'iraq_iran_earthquake_final_data'\n",
    "\n",
    "data_dir = 'Crisis/data_image/iraq_iran_earthquake'\n",
    "\n",
    "severe_damage = 'filtered/crisis/severe_damage/'\n",
    "mild_damage = 'filtered/crisis/mild_damage/'\n",
    "little_damage = 'filtered/crisis/little_damage/'\n",
    "dont_know = 'filtered/crisis/dont_know/'"
   ]
  },
  {
   "cell_type": "code",
   "execution_count": 75,
   "metadata": {},
   "outputs": [],
   "source": [
    "wb = load_workbook(file_name, data_only=True)\n",
    "sh = wb[sheet_name]\n",
    "row_count = sh.max_row"
   ]
  },
  {
   "cell_type": "code",
   "execution_count": 76,
   "metadata": {
    "collapsed": true
   },
   "outputs": [],
   "source": [
    "image_id = []\n",
    "image_damage = []\n",
    "image_human_conf = []\n",
    "\n",
    "id_col = 'b'\n",
    "damage_col = 'k'\n",
    "human_conf = 'j'\n",
    "\n",
    "\n",
    "img_path = []"
   ]
  },
  {
   "cell_type": "code",
   "execution_count": 77,
   "metadata": {},
   "outputs": [
    {
     "name": "stdout",
     "output_type": "stream",
     "text": [
      "Processed Rows:  100\n",
      "Processed Rows:  200\n",
      "Processed Rows:  300\n",
      "Processed Rows:  400\n",
      "Processed Rows:  500\n",
      "Processed Rows:  600\n"
     ]
    }
   ],
   "source": [
    "for i in range(2,row_count):\n",
    "    if ( i % 100 == 0):\n",
    "        print('Processed Rows: ', i)\n",
    "    if sh[ 'i' + str(i)].value == 'infrastructure_and_utility_damage':\n",
    "        image_id.append(sh[ id_col + str(i)].value)\n",
    "        image_damage.append(sh[ damage_col + str(i)].value)\n",
    "        image_human_conf.append(sh[ human_conf + str(i)].value)"
   ]
  },
  {
   "cell_type": "code",
   "execution_count": 78,
   "metadata": {},
   "outputs": [],
   "source": [
    "for dir, subdir, files in os.walk(data_dir):\n",
    "    for file in files:\n",
    "        img_path.append(os.path.join(dir, file))"
   ]
  },
  {
   "cell_type": "code",
   "execution_count": 79,
   "metadata": {},
   "outputs": [],
   "source": [
    "for img in img_path:\n",
    "    try:\n",
    "        index = image_id.index( img.split('\\\\')[2].split('.')[0] )\n",
    "\n",
    "        if image_damage[index] == 'severe_damage':\n",
    "            os.rename(img, severe_damage + img.split('\\\\')[2].split('.')[0] + '_' + str(image_human_conf[index]) + '.jpeg')\n",
    "            \n",
    "        elif (image_damage[index] == 'mild_damage'):\n",
    "            os.rename(img, mild_damage + img.split('\\\\')[2].split('.')[0] + '_' + str(image_human_conf[index]) + '.jpeg')\n",
    "            \n",
    "        elif (image_damage[index] == 'little_or_no_damage'):\n",
    "            os.rename(img, little_damage + img.split('\\\\')[2].split('.')[0] + '_' + str(image_human_conf[index]) + '.jpeg')\n",
    "            \n",
    "        else:\n",
    "            os.rename(img, dont_know + img.split('\\\\')[2].split('.')[0] + '_' + str(image_human_conf[index]) + '.jpeg')\n",
    "            \n",
    "    except Exception as e:\n",
    "        pass"
   ]
  },
  {
   "cell_type": "code",
   "execution_count": null,
   "metadata": {
    "collapsed": true
   },
   "outputs": [],
   "source": []
  }
 ],
 "metadata": {
  "kernelspec": {
   "display_name": "Python 3",
   "language": "python",
   "name": "python3"
  },
  "language_info": {
   "codemirror_mode": {
    "name": "ipython",
    "version": 3
   },
   "file_extension": ".py",
   "mimetype": "text/x-python",
   "name": "python",
   "nbconvert_exporter": "python",
   "pygments_lexer": "ipython3",
   "version": "3.6.1"
  }
 },
 "nbformat": 4,
 "nbformat_minor": 2
}
