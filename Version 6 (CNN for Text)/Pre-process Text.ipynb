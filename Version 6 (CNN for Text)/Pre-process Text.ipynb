{
 "cells": [
  {
   "cell_type": "code",
   "execution_count": 42,
   "metadata": {
    "collapsed": true
   },
   "outputs": [],
   "source": [
    "from openpyxl import load_workbook"
   ]
  },
  {
   "cell_type": "code",
   "execution_count": 61,
   "metadata": {
    "collapsed": true
   },
   "outputs": [],
   "source": [
    "punctuation = '''!\"$%&'()*+,-./:;<=>?@[\\]^_`{|}~'''\n",
    "stopwords = [\"RT\", \"&amp;\", \"i\", \"me\", \"my\", \"myself\", \"we\", \"our\", \"ours\", \"ourselves\", \"you\", \"your\", \"yours\", \"yourself\", \"yourselves\", \"he\", \"him\", \"his\", \"himself\", \"she\", \"her\", \"hers\", \"herself\", \"it\", \"its\", \"itself\", \"they\", \"them\", \"their\", \"theirs\", \"themselves\", \"what\", \"which\", \"who\", \"whom\", \"this\", \"that\", \"these\", \"those\", \"am\", \"is\", \"are\", \"was\", \"were\", \"be\", \"been\", \"being\", \"have\", \"has\", \"had\", \"having\", \"do\", \"does\", \"did\", \"doing\", \"a\", \"an\", \"the\", \"and\", \"but\", \"if\", \"or\", \"because\", \"as\", \"until\", \"while\", \"of\", \"at\", \"by\", \"for\", \"with\", \"about\", \"against\", \"between\", \"into\", \"through\", \"during\", \"before\", \"after\", \"above\", \"below\", \"to\", \"from\", \"up\", \"down\", \"in\", \"out\", \"on\", \"off\", \"over\", \"under\", \"again\", \"further\", \"then\", \"once\", \"here\", \"there\", \"when\", \"where\", \"why\", \"how\", \"all\", \"any\", \"both\", \"each\", \"few\", \"more\", \"most\", \"other\", \"some\", \"such\", \"no\", \"nor\", \"not\", \"only\", \"own\", \"same\", \"so\", \"than\", \"too\", \"very\", \"s\", \"t\", \"can\", \"will\", \"just\", \"don\", \"should\", \"now\"]\n",
    "\n",
    "def processText(x):\n",
    "    \n",
    "    ## Remove account username\n",
    "    x = ' '.join([i for i in x.split() if '@' not in i])\n",
    "    \n",
    "    ## Remove external links\n",
    "    x = ' '.join([i for i in x.split() if 'http' not in i])\n",
    "    \n",
    "    ## Remove stopwords\n",
    "    x = ' '.join([i for i in x.split() if i not in stopwords])\n",
    "    \n",
    "    ## Remove punctuation\n",
    "    x = ''.join([i for i in x if i not in punctuation])\n",
    "    \n",
    "    return x"
   ]
  },
  {
   "cell_type": "code",
   "execution_count": 62,
   "metadata": {
    "collapsed": true
   },
   "outputs": [],
   "source": [
    "# print(processText(\"RT @WHO: Following an earthquake like #NepalEarthquake, open wounds must be considered as contaminated &amp; should not be closed http://t.co/zâ€°Ã›_\"))"
   ]
  },
  {
   "cell_type": "code",
   "execution_count": 77,
   "metadata": {
    "collapsed": true
   },
   "outputs": [],
   "source": [
    "file_path = \"Dataset1/queensland/train.xlsx\"\n",
    "workbook_name = \"2013_Queensland_Floods_train\""
   ]
  },
  {
   "cell_type": "code",
   "execution_count": 78,
   "metadata": {
    "collapsed": true
   },
   "outputs": [],
   "source": [
    "wb = load_workbook(file_path, data_only=True)\n",
    "ws = wb[workbook_name]"
   ]
  },
  {
   "cell_type": "code",
   "execution_count": 79,
   "metadata": {},
   "outputs": [
    {
     "name": "stderr",
     "output_type": "stream",
     "text": [
      "C:\\Users\\Javapocalypse\\Anaconda3\\lib\\site-packages\\openpyxl\\worksheet\\worksheet.py:495: UserWarning: Using a range string is deprecated. Use ws[range_string]\n",
      "  warn(\"Using a range string is deprecated. Use ws[range_string]\")\n"
     ]
    },
    {
     "name": "stdout",
     "output_type": "stream",
     "text": [
      "0 Rows Processed\n",
      "500 Rows Processed\n",
      "1000 Rows Processed\n",
      "1500 Rows Processed\n",
      "2000 Rows Processed\n",
      "2500 Rows Processed\n",
      "3000 Rows Processed\n",
      "3500 Rows Processed\n",
      "4000 Rows Processed\n",
      "4500 Rows Processed\n",
      "5000 Rows Processed\n",
      "5500 Rows Processed\n",
      "6000 Rows Processed\n"
     ]
    }
   ],
   "source": [
    "i = 0\n",
    "for row in ws.iter_rows('b{}:b{}'.format(ws.min_row + 1,ws.max_row)):\n",
    "    if (i%500 == 0 ):\n",
    "        print(str(i)+' Rows Processed')\n",
    "    i+=1\n",
    "    for cell in row:\n",
    "        cell.value = processText(cell.value)"
   ]
  },
  {
   "cell_type": "code",
   "execution_count": 80,
   "metadata": {
    "collapsed": true
   },
   "outputs": [],
   "source": [
    "wb.save(file_path)"
   ]
  }
 ],
 "metadata": {
  "kernelspec": {
   "display_name": "Python 3",
   "language": "python",
   "name": "python3"
  },
  "language_info": {
   "codemirror_mode": {
    "name": "ipython",
    "version": 3
   },
   "file_extension": ".py",
   "mimetype": "text/x-python",
   "name": "python",
   "nbconvert_exporter": "python",
   "pygments_lexer": "ipython3",
   "version": "3.6.1"
  }
 },
 "nbformat": 4,
 "nbformat_minor": 2
}
