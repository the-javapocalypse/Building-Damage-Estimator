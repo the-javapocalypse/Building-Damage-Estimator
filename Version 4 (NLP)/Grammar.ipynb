{
 "cells": [
  {
   "cell_type": "code",
   "execution_count": 1,
   "metadata": {
    "collapsed": true
   },
   "outputs": [],
   "source": [
    "import nltk"
   ]
  },
  {
   "cell_type": "code",
   "execution_count": 8,
   "metadata": {},
   "outputs": [
    {
     "name": "stdout",
     "output_type": "stream",
     "text": [
      "[('In', 'IN'), ('Canada,', 'NNP'), ('earthquake', 'NN'), ('effected', 'VBD'), ('more', 'JJR'), ('than', 'IN'), ('300', 'CD'), ('houses', 'NNS')]\n",
      "\n",
      "(S\n",
      "  In/IN\n",
      "  Canada,/NNP\n",
      "  earthquake/NN\n",
      "  effected/VBD\n",
      "  (NumericalPhrase more/JJR than/IN 300/CD houses/NNS))\n",
      "\n",
      "[[('more', 'JJR'), ('than', 'IN'), ('300', 'CD'), ('houses', 'NNS')]]\n"
     ]
    }
   ],
   "source": [
    "# extracting quantity and object-subject relation using grammar\n",
    "sent = 'In Canada, earthquake effected more than 300 houses'\n",
    "sent_pos = nltk.pos_tag(sent.split())\n",
    "print(sent_pos)\n",
    "print()\n",
    "# Noun(Singlular|Plural)?Adverb?adjective|comparative,Preposition,quantity|Noun(Singlular|Plural)\n",
    "grammar = 'NumericalPhrase: {<NN|NNS>?<RB>?<JJR><IN><CD><NN|NNS>?}'\n",
    "parser = nltk.RegexpParser(grammar)\n",
    "print(parser.parse(sent_pos))\n",
    "print()\n",
    "print([tree.leaves() for tree in parser.parse(sent_pos).subtrees() if tree.label() == 'NumericalPhrase'])\n"
   ]
  },
  {
   "cell_type": "code",
   "execution_count": null,
   "metadata": {},
   "outputs": [],
   "source": []
  },
  {
   "cell_type": "code",
   "execution_count": null,
   "metadata": {
    "collapsed": true
   },
   "outputs": [],
   "source": []
  }
 ],
 "metadata": {
  "kernelspec": {
   "display_name": "Python 3",
   "language": "python",
   "name": "python3"
  },
  "language_info": {
   "codemirror_mode": {
    "name": "ipython",
    "version": 3
   },
   "file_extension": ".py",
   "mimetype": "text/x-python",
   "name": "python",
   "nbconvert_exporter": "python",
   "pygments_lexer": "ipython3",
   "version": "3.6.1"
  }
 },
 "nbformat": 4,
 "nbformat_minor": 2
}
