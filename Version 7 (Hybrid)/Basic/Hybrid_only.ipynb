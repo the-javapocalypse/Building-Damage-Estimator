{
 "cells": [
  {
   "cell_type": "code",
   "execution_count": 20,
   "metadata": {},
   "outputs": [],
   "source": [
    "from keras.models import Sequential\n",
    "from keras.layers import Dense, Dropout, Activation,Flatten\n",
    "from keras.layers import Embedding\n",
    "from keras.layers import Conv1D, GlobalMaxPooling1D\n",
    "from keras.preprocessing.image import ImageDataGenerator, array_to_img, img_to_array, load_img\n",
    "from keras.preprocessing.text import Tokenizer\n",
    "from keras.preprocessing import sequence\n",
    "from keras import metrics\n",
    "from sklearn.preprocessing import LabelEncoder\n",
    "from sklearn.utils import shuffle\n",
    "\n",
    "from keras import metrics\n",
    "from keras.layers.merge import concatenate\n",
    "import sys\n",
    "sys.path.append('../')\n",
    "from Utilities.model_visualization import model_to_png\n",
    "\n",
    "from PIL import Image # used for loading images\n",
    "import numpy as np\n",
    "from numpy import asarray\n",
    "import matplotlib.pyplot as plt\n",
    "\n",
    "import os # used for navigating to image path\n",
    "\n",
    "from keras.layers import Input\n",
    "\n",
    "import cv2\n",
    "from keras.layers import concatenate\n",
    "from keras.models import Model\n",
    "from keras.applications import VGG16\n",
    "\n",
    "import pandas as pd\n",
    "from glob import glob\n",
    "import tensorflow as tf\n",
    "\n",
    "from keras.callbacks import ModelCheckpoint\n",
    "from sklearn.model_selection import StratifiedKFold\n",
    "from keras.preprocessing.image import ImageDataGenerator, img_to_array, load_img\n",
    "from keras.callbacks import EarlyStopping\n",
    "\n",
    "import pickle\n",
    "from scipy import misc\n",
    "from keras import optimizers\n",
    "\n",
    "from keras.utils import plot_model\n",
    "\n",
    "from numpy import array\n",
    "from numpy import argmax\n",
    "from sklearn.preprocessing import LabelEncoder\n",
    "from sklearn.preprocessing import OneHotEncoder\n",
    "\n",
    "import time\n",
    "import sys"
   ]
  },
  {
   "cell_type": "markdown",
   "metadata": {},
   "source": [
    "<h1>Loading Data</h1>"
   ]
  },
  {
   "cell_type": "code",
   "execution_count": 21,
   "metadata": {},
   "outputs": [
    {
     "name": "stdout",
     "output_type": "stream",
     "text": [
      "text          Sunny days sweeping clouds away #Irma #PublicP...\n",
      "text_info                                           informative\n",
      "image_path    data_image/hurricane_irma/18_9_2017/9098755908...\n",
      "damage                                              mild_damage\n",
      "Name: 0, dtype: object\n"
     ]
    }
   ],
   "source": [
    "df = pd.read_pickle('processed_df.pkl')\n",
    "print(df.iloc[0])"
   ]
  },
  {
   "cell_type": "code",
   "execution_count": 22,
   "metadata": {},
   "outputs": [],
   "source": [
    "split_pos = int(df['text'].count()*0.8)\n",
    "train = df[:split_pos]\n",
    "test = df[split_pos:]"
   ]
  },
  {
   "cell_type": "markdown",
   "metadata": {},
   "source": [
    "<h1>CNN Text Model</h1>"
   ]
  },
  {
   "cell_type": "code",
   "execution_count": 23,
   "metadata": {},
   "outputs": [],
   "source": [
    "dataColumn = 'text'\n",
    "labelColumn = 'text_info'\n",
    "\n",
    "tags = train[labelColumn]\n",
    "texts = train[dataColumn]\n",
    "\n",
    "tags_Y = test[labelColumn]\n",
    "texts_Y = test[dataColumn]"
   ]
  },
  {
   "cell_type": "code",
   "execution_count": 24,
   "metadata": {},
   "outputs": [
    {
     "name": "stdout",
     "output_type": "stream",
     "text": [
      "(320, 4)\n"
     ]
    }
   ],
   "source": [
    "print(train.shape)"
   ]
  },
  {
   "cell_type": "code",
   "execution_count": 25,
   "metadata": {},
   "outputs": [
    {
     "name": "stdout",
     "output_type": "stream",
     "text": [
      "[0 0 1 0 0]\n",
      "[[0. 1. 0. ... 0. 0. 0.]\n",
      " [0. 1. 1. ... 0. 0. 0.]\n",
      " [0. 1. 1. ... 0. 0. 0.]\n",
      " [0. 0. 0. ... 0. 0. 0.]\n",
      " [0. 1. 0. ... 0. 0. 0.]]\n",
      "(320,) (320, 1000)\n"
     ]
    }
   ],
   "source": [
    "num_max = 1000\n",
    "# preprocess\n",
    "le = LabelEncoder()\n",
    "tags = le.fit_transform(tags.astype(str))\n",
    "tok = Tokenizer(num_words=num_max)\n",
    "tok.fit_on_texts(texts)\n",
    "mat_texts = tok.texts_to_matrix(texts,mode='count')\n",
    "print(tags[:5])\n",
    "print(mat_texts[:5])\n",
    "print(tags.shape,mat_texts.shape)\n",
    "\n",
    "\n",
    "# For testing data\n",
    "le_Y = LabelEncoder()\n",
    "tags_Y = le_Y.fit_transform(tags_Y.astype(str))\n",
    "tok_Y = Tokenizer(num_words=num_max)\n",
    "tok_Y.fit_on_texts(texts_Y)\n",
    "mat_texts_Y = tok.texts_to_matrix(texts_Y,mode='count')"
   ]
  },
  {
   "cell_type": "code",
   "execution_count": 26,
   "metadata": {},
   "outputs": [],
   "source": [
    "# for cnn preproces\n",
    "max_len = 100\n",
    "cnn_texts_seq = tok.texts_to_sequences(texts)\n",
    "cnn_texts_mat = sequence.pad_sequences(cnn_texts_seq,maxlen=max_len)\n",
    "\n",
    "# For testing data\n",
    "cnn_texts_seq_Y = tok.texts_to_sequences(texts_Y)\n",
    "cnn_texts_mat_Y = sequence.pad_sequences(cnn_texts_seq_Y,maxlen=max_len)"
   ]
  },
  {
   "cell_type": "code",
   "execution_count": 27,
   "metadata": {},
   "outputs": [],
   "source": [
    "filepath = \"text_weights.h5\"\n",
    "checkpoint = ModelCheckpoint(filepath, monitor='val_acc', verbose=1, save_best_only=True, mode='max', period=1)\n",
    "early_stopping = EarlyStopping(monitor='val_acc', min_delta=0, patience=4, verbose=1, mode='max')\n",
    "callbacks_list = [checkpoint, early_stopping]"
   ]
  },
  {
   "cell_type": "code",
   "execution_count": 28,
   "metadata": {},
   "outputs": [],
   "source": [
    "def get_hybrid_model():    # Pre Trained Embeddings\n",
    "    \n",
    "    # load the whole embedding into memory\n",
    "    embeddings_index = dict()\n",
    "    f = open('Embeddings/glove.6B.100d.txt', encoding=\"utf8\")\n",
    "    for line in f:\n",
    "        values = line.split()\n",
    "        word = values[0]\n",
    "        coefs = asarray(values[1:], dtype='float32')\n",
    "        embeddings_index[word] = coefs\n",
    "    f.close()\n",
    "    print('Found %s word vectors.' % len(embeddings_index))\n",
    "    \n",
    "    # create a weight matrix for words in training docs\n",
    "    embedding_matrix = np.zeros((len(tok.word_index) + 1, 100))\n",
    "    for word, i in tok.word_index.items():\n",
    "        embedding_vector = embeddings_index.get(word)\n",
    "        if embedding_vector is not None:\n",
    "            embedding_matrix[i] = embedding_vector\n",
    "\n",
    "    #text classifier\n",
    "    inputs = Input(shape=(100,))\n",
    "    e = Embedding(len(tok.word_index) + 1,\n",
    "                  100, \n",
    "                  weights=[embedding_matrix],\n",
    "                  input_length=max_len, \n",
    "                  trainable=False)(inputs)\n",
    "    x = Dropout(0.2)(e)\n",
    "    x = Conv1D(128,\n",
    "               3,\n",
    "               padding='valid',\n",
    "               activation='relu',\n",
    "               strides=1)(x)\n",
    "    x = GlobalMaxPooling1D()(x)\n",
    "    x = Dense(128, activation='relu')(x)\n",
    "    x = Dropout(0.2)(x)\n",
    "    hybrid_link = Dense(32, activation='relu', name='hybrid_link')(x)\n",
    "    x = Dense(1, activation='sigmoid', name='Text_Classifier')(hybrid_link)\n",
    "    text_classifier = x\n",
    "    #image classifier\n",
    "    IMAGE_SIZE = [224, 224]  # we will keep the image size as (64,64). You can increase the size for better results. \n",
    "    vgg = VGG16(input_shape = (224, 224, 3), weights = None, include_top = True)  # input_shape = (64,64,3) as required by VGG\n",
    "    x = (vgg.layers[-2].output)\n",
    "    image_model = Dense(3, activation = 'softmax',name='Hybrid_Classifier')(x)  # adding the output layer with softmax function as this is a multi label classification problem.\n",
    "    #hybrid model\n",
    "    concatenate_layer = concatenate([image_model, hybrid_link]) \n",
    "    hybrid = Dense(4, activation='softmax')(concatenate_layer)\n",
    "    model = Model(inputs=[vgg.input, inputs], outputs=[hybrid,text_classifier])\n",
    "    return model"
   ]
  },
  {
   "cell_type": "code",
   "execution_count": 29,
   "metadata": {},
   "outputs": [
    {
     "name": "stdout",
     "output_type": "stream",
     "text": [
      "Found 400000 word vectors.\n",
      "__________________________________________________________________________________________________\n",
      "Layer (type)                    Output Shape         Param #     Connected to                     \n",
      "==================================================================================================\n",
      "input_4 (InputLayer)            (None, 224, 224, 3)  0                                            \n",
      "__________________________________________________________________________________________________\n",
      "block1_conv1 (Conv2D)           (None, 224, 224, 64) 1792        input_4[0][0]                    \n",
      "__________________________________________________________________________________________________\n",
      "block1_conv2 (Conv2D)           (None, 224, 224, 64) 36928       block1_conv1[0][0]               \n",
      "__________________________________________________________________________________________________\n",
      "block1_pool (MaxPooling2D)      (None, 112, 112, 64) 0           block1_conv2[0][0]               \n",
      "__________________________________________________________________________________________________\n",
      "block2_conv1 (Conv2D)           (None, 112, 112, 128 73856       block1_pool[0][0]                \n",
      "__________________________________________________________________________________________________\n",
      "block2_conv2 (Conv2D)           (None, 112, 112, 128 147584      block2_conv1[0][0]               \n",
      "__________________________________________________________________________________________________\n",
      "block2_pool (MaxPooling2D)      (None, 56, 56, 128)  0           block2_conv2[0][0]               \n",
      "__________________________________________________________________________________________________\n",
      "block3_conv1 (Conv2D)           (None, 56, 56, 256)  295168      block2_pool[0][0]                \n",
      "__________________________________________________________________________________________________\n",
      "block3_conv2 (Conv2D)           (None, 56, 56, 256)  590080      block3_conv1[0][0]               \n",
      "__________________________________________________________________________________________________\n",
      "block3_conv3 (Conv2D)           (None, 56, 56, 256)  590080      block3_conv2[0][0]               \n",
      "__________________________________________________________________________________________________\n",
      "block3_pool (MaxPooling2D)      (None, 28, 28, 256)  0           block3_conv3[0][0]               \n",
      "__________________________________________________________________________________________________\n",
      "block4_conv1 (Conv2D)           (None, 28, 28, 512)  1180160     block3_pool[0][0]                \n",
      "__________________________________________________________________________________________________\n",
      "block4_conv2 (Conv2D)           (None, 28, 28, 512)  2359808     block4_conv1[0][0]               \n",
      "__________________________________________________________________________________________________\n",
      "block4_conv3 (Conv2D)           (None, 28, 28, 512)  2359808     block4_conv2[0][0]               \n",
      "__________________________________________________________________________________________________\n",
      "block4_pool (MaxPooling2D)      (None, 14, 14, 512)  0           block4_conv3[0][0]               \n",
      "__________________________________________________________________________________________________\n",
      "block5_conv1 (Conv2D)           (None, 14, 14, 512)  2359808     block4_pool[0][0]                \n",
      "__________________________________________________________________________________________________\n",
      "input_3 (InputLayer)            (None, 100)          0                                            \n",
      "__________________________________________________________________________________________________\n",
      "block5_conv2 (Conv2D)           (None, 14, 14, 512)  2359808     block5_conv1[0][0]               \n",
      "__________________________________________________________________________________________________\n",
      "embedding_2 (Embedding)         (None, 100, 100)     143300      input_3[0][0]                    \n",
      "__________________________________________________________________________________________________\n",
      "block5_conv3 (Conv2D)           (None, 14, 14, 512)  2359808     block5_conv2[0][0]               \n",
      "__________________________________________________________________________________________________\n",
      "dropout_3 (Dropout)             (None, 100, 100)     0           embedding_2[0][0]                \n",
      "__________________________________________________________________________________________________\n",
      "block5_pool (MaxPooling2D)      (None, 7, 7, 512)    0           block5_conv3[0][0]               \n",
      "__________________________________________________________________________________________________\n",
      "conv1d_2 (Conv1D)               (None, 98, 128)      38528       dropout_3[0][0]                  \n",
      "__________________________________________________________________________________________________\n",
      "flatten (Flatten)               (None, 25088)        0           block5_pool[0][0]                \n",
      "__________________________________________________________________________________________________\n",
      "global_max_pooling1d_2 (GlobalM (None, 128)          0           conv1d_2[0][0]                   \n",
      "__________________________________________________________________________________________________\n",
      "fc1 (Dense)                     (None, 4096)         102764544   flatten[0][0]                    \n",
      "__________________________________________________________________________________________________\n",
      "dense_5 (Dense)                 (None, 128)          16512       global_max_pooling1d_2[0][0]     \n",
      "__________________________________________________________________________________________________\n",
      "fc2 (Dense)                     (None, 4096)         16781312    fc1[0][0]                        \n",
      "__________________________________________________________________________________________________\n",
      "dropout_4 (Dropout)             (None, 128)          0           dense_5[0][0]                    \n",
      "__________________________________________________________________________________________________\n",
      "dense_7 (Dense)                 (None, 3)            12291       fc2[0][0]                        \n",
      "__________________________________________________________________________________________________\n",
      "hybrid_link (Dense)             (None, 32)           4128        dropout_4[0][0]                  \n",
      "__________________________________________________________________________________________________\n",
      "concatenate_2 (Concatenate)     (None, 35)           0           dense_7[0][0]                    \n",
      "                                                                 hybrid_link[0][0]                \n",
      "__________________________________________________________________________________________________\n",
      "dense_8 (Dense)                 (None, 4)            144         concatenate_2[0][0]              \n",
      "__________________________________________________________________________________________________\n",
      "dense_6 (Dense)                 (None, 1)            33          hybrid_link[0][0]                \n",
      "==================================================================================================\n",
      "Total params: 134,475,480\n",
      "Trainable params: 134,332,180\n",
      "Non-trainable params: 143,300\n",
      "__________________________________________________________________________________________________\n"
     ]
    }
   ],
   "source": [
    "model = get_hybrid_model()\n",
    "\n",
    "model.compile(loss='binary_crossentropy',\n",
    "                       optimizer= optimizers.adam(lr=0.00008),\n",
    "                       metrics=['acc',metrics.binary_accuracy])\n",
    "model.summary()\n",
    "plot_model(model, to_file='multiple_inputs_outputs.png')\n"
   ]
  },
  {
   "cell_type": "markdown",
   "metadata": {},
   "source": [
    "<h1>CNN Image</h1>"
   ]
  },
  {
   "cell_type": "code",
   "execution_count": 30,
   "metadata": {},
   "outputs": [],
   "source": [
    "IMG_SIZE =224\n",
    "dataset_dir = 'H:/FYP DATASETS/FYP DATASETS/Crisis/'\n",
    "\n",
    "def load_img(img):\n",
    "    path = os.path.join(dataset_dir, img)\n",
    "    rows=224\n",
    "    columns=224\n",
    "    img= cv2.resize(cv2.imread(path,cv2.IMREAD_COLOR),(rows,columns),interpolation=cv2.INTER_CUBIC)\n",
    "    return img"
   ]
  },
  {
   "cell_type": "code",
   "execution_count": 31,
   "metadata": {},
   "outputs": [],
   "source": [
    "for index, row in train.iterrows():\n",
    "    train.at[index,'image_path'] = load_img(row['image_path'])"
   ]
  },
  {
   "cell_type": "code",
   "execution_count": 32,
   "metadata": {},
   "outputs": [],
   "source": [
    "def encode_label(damage):\n",
    "    # integer encode\n",
    "    damage = np.array(damage)\n",
    "    label_encoder = LabelEncoder()\n",
    "    integer_encoded = label_encoder.fit_transform(damage)\n",
    "    # binary encode\n",
    "    onehot_encoder = OneHotEncoder(sparse=False)\n",
    "    integer_encoded = integer_encoded.reshape(len(integer_encoded), 1)\n",
    "    onehot_encoded = onehot_encoder.fit_transform(integer_encoded)\n",
    "    return onehot_encoded"
   ]
  },
  {
   "cell_type": "code",
   "execution_count": 33,
   "metadata": {},
   "outputs": [
    {
     "name": "stderr",
     "output_type": "stream",
     "text": [
      "C:\\Users\\Saad\\AppData\\Local\\conda\\conda\\envs\\tf_gpu\\lib\\site-packages\\sklearn\\preprocessing\\_encoders.py:368: FutureWarning: The handling of integer data will change in version 0.22. Currently, the categories are determined based on the range [0, max(values)], while in the future they will be determined based on the unique values.\n",
      "If you want the future behaviour and silence this warning, you can specify \"categories='auto'\".\n",
      "In case you used a LabelEncoder before this OneHotEncoder to convert the categories to integers, then you can now use the OneHotEncoder directly.\n",
      "  warnings.warn(msg, FutureWarning)\n"
     ]
    },
    {
     "name": "stdout",
     "output_type": "stream",
     "text": [
      "text          Sunny days sweeping clouds away #Irma #PublicP...\n",
      "text_info                                           informative\n",
      "image_path    [[[222, 122, 4], [219, 125, 6], [221, 131, 12]...\n",
      "damage                                              mild_damage\n",
      "Name: 0, dtype: object\n"
     ]
    }
   ],
   "source": [
    "y = encode_label(train.iloc[:]['damage'])\n",
    "print(train.iloc[0])"
   ]
  },
  {
   "cell_type": "code",
   "execution_count": 34,
   "metadata": {},
   "outputs": [
    {
     "name": "stdout",
     "output_type": "stream",
     "text": [
      "['mild_damage' 'little_or_no_damage' 'severe_damage'\n",
      " 'dont_know_or_cant_judge']\n"
     ]
    }
   ],
   "source": [
    "print(train.damage.unique())"
   ]
  },
  {
   "cell_type": "code",
   "execution_count": 35,
   "metadata": {},
   "outputs": [],
   "source": [
    "train_images = train['image_path'].tolist()\n",
    "# no need to convert y to list as it is 1 dim encoding takes care of it\n",
    "train_images = np.array(train_images)\n",
    "train_text = np.array(train['text'].tolist())"
   ]
  },
  {
   "cell_type": "code",
   "execution_count": 36,
   "metadata": {},
   "outputs": [
    {
     "name": "stdout",
     "output_type": "stream",
     "text": [
      "(320, 100)\n"
     ]
    }
   ],
   "source": [
    "print(cnn_texts_mat.shape)"
   ]
  },
  {
   "cell_type": "code",
   "execution_count": 37,
   "metadata": {},
   "outputs": [
    {
     "name": "stdout",
     "output_type": "stream",
     "text": [
      "Train on 256 samples, validate on 64 samples\n",
      "Epoch 1/40\n",
      "256/256 [==============================] - 26s 103ms/step - loss: 1.5803 - dense_8_loss: 0.6397 - dense_6_loss: 0.9406 - dense_8_acc: 0.7109 - dense_8_binary_accuracy: 0.7109 - dense_6_acc: 0.2812 - dense_6_binary_accuracy: 0.2812 - val_loss: 1.2965 - val_dense_8_loss: 0.5854 - val_dense_6_loss: 0.7111 - val_dense_8_acc: 0.7539 - val_dense_8_binary_accuracy: 0.7539 - val_dense_6_acc: 0.5000 - val_dense_6_binary_accuracy: 0.5000\n",
      "Epoch 2/40\n",
      "256/256 [==============================] - 5s 21ms/step - loss: 1.3304 - dense_8_loss: 0.6165 - dense_6_loss: 0.7139 - dense_8_acc: 0.7305 - dense_8_binary_accuracy: 0.7305 - dense_6_acc: 0.5117 - dense_6_binary_accuracy: 0.5117 - val_loss: 1.2100 - val_dense_8_loss: 0.5782 - val_dense_6_loss: 0.6318 - val_dense_8_acc: 0.7500 - val_dense_8_binary_accuracy: 0.7500 - val_dense_6_acc: 0.6719 - val_dense_6_binary_accuracy: 0.6719\n",
      "Epoch 3/40\n",
      "256/256 [==============================] - 5s 21ms/step - loss: 1.1941 - dense_8_loss: 0.5967 - dense_6_loss: 0.5973 - dense_8_acc: 0.7412 - dense_8_binary_accuracy: 0.7412 - dense_6_acc: 0.7305 - dense_6_binary_accuracy: 0.7305 - val_loss: 1.1764 - val_dense_8_loss: 0.5756 - val_dense_6_loss: 0.6008 - val_dense_8_acc: 0.7500 - val_dense_8_binary_accuracy: 0.7500 - val_dense_6_acc: 0.7031 - val_dense_6_binary_accuracy: 0.7031\n",
      "Epoch 4/40\n",
      "256/256 [==============================] - 5s 21ms/step - loss: 1.1717 - dense_8_loss: 0.6081 - dense_6_loss: 0.5636 - dense_8_acc: 0.7402 - dense_8_binary_accuracy: 0.7402 - dense_6_acc: 0.7773 - dense_6_binary_accuracy: 0.7773 - val_loss: 1.1559 - val_dense_8_loss: 0.5701 - val_dense_6_loss: 0.5858 - val_dense_8_acc: 0.7500 - val_dense_8_binary_accuracy: 0.7500 - val_dense_6_acc: 0.7188 - val_dense_6_binary_accuracy: 0.7188\n",
      "Epoch 5/40\n",
      "256/256 [==============================] - 5s 21ms/step - loss: 1.1305 - dense_8_loss: 0.5848 - dense_6_loss: 0.5457 - dense_8_acc: 0.7510 - dense_8_binary_accuracy: 0.7510 - dense_6_acc: 0.7773 - dense_6_binary_accuracy: 0.7773 - val_loss: 1.1442 - val_dense_8_loss: 0.5640 - val_dense_6_loss: 0.5802 - val_dense_8_acc: 0.7500 - val_dense_8_binary_accuracy: 0.7500 - val_dense_6_acc: 0.7188 - val_dense_6_binary_accuracy: 0.7188\n",
      "Epoch 6/40\n",
      "256/256 [==============================] - 5s 21ms/step - loss: 1.1032 - dense_8_loss: 0.5732 - dense_6_loss: 0.5300 - dense_8_acc: 0.7490 - dense_8_binary_accuracy: 0.7490 - dense_6_acc: 0.7695 - dense_6_binary_accuracy: 0.7695 - val_loss: 1.1368 - val_dense_8_loss: 0.5596 - val_dense_6_loss: 0.5772 - val_dense_8_acc: 0.7500 - val_dense_8_binary_accuracy: 0.7500 - val_dense_6_acc: 0.7188 - val_dense_6_binary_accuracy: 0.7188\n",
      "Epoch 7/40\n",
      "256/256 [==============================] - 5s 21ms/step - loss: 1.0900 - dense_8_loss: 0.5710 - dense_6_loss: 0.5190 - dense_8_acc: 0.7500 - dense_8_binary_accuracy: 0.7500 - dense_6_acc: 0.7813 - dense_6_binary_accuracy: 0.7813 - val_loss: 1.1313 - val_dense_8_loss: 0.5566 - val_dense_6_loss: 0.5747 - val_dense_8_acc: 0.7500 - val_dense_8_binary_accuracy: 0.7500 - val_dense_6_acc: 0.7188 - val_dense_6_binary_accuracy: 0.7188\n",
      "Epoch 8/40\n",
      "256/256 [==============================] - 5s 21ms/step - loss: 1.0968 - dense_8_loss: 0.5700 - dense_6_loss: 0.5268 - dense_8_acc: 0.7510 - dense_8_binary_accuracy: 0.7510 - dense_6_acc: 0.7695 - dense_6_binary_accuracy: 0.7695 - val_loss: 1.1272 - val_dense_8_loss: 0.5534 - val_dense_6_loss: 0.5738 - val_dense_8_acc: 0.7500 - val_dense_8_binary_accuracy: 0.7500 - val_dense_6_acc: 0.7188 - val_dense_6_binary_accuracy: 0.7188\n",
      "Epoch 9/40\n",
      "256/256 [==============================] - 5s 21ms/step - loss: 1.0890 - dense_8_loss: 0.5633 - dense_6_loss: 0.5257 - dense_8_acc: 0.7500 - dense_8_binary_accuracy: 0.7500 - dense_6_acc: 0.7734 - dense_6_binary_accuracy: 0.7734 - val_loss: 1.1230 - val_dense_8_loss: 0.5506 - val_dense_6_loss: 0.5723 - val_dense_8_acc: 0.7500 - val_dense_8_binary_accuracy: 0.7500 - val_dense_6_acc: 0.7188 - val_dense_6_binary_accuracy: 0.7188\n",
      "Epoch 10/40\n",
      "256/256 [==============================] - 5s 21ms/step - loss: 1.0774 - dense_8_loss: 0.5556 - dense_6_loss: 0.5218 - dense_8_acc: 0.7500 - dense_8_binary_accuracy: 0.7500 - dense_6_acc: 0.7773 - dense_6_binary_accuracy: 0.7773 - val_loss: 1.1174 - val_dense_8_loss: 0.5470 - val_dense_6_loss: 0.5703 - val_dense_8_acc: 0.7500 - val_dense_8_binary_accuracy: 0.7500 - val_dense_6_acc: 0.7188 - val_dense_6_binary_accuracy: 0.7188\n",
      "Epoch 11/40\n",
      "256/256 [==============================] - 5s 21ms/step - loss: 1.0606 - dense_8_loss: 0.5426 - dense_6_loss: 0.5180 - dense_8_acc: 0.7520 - dense_8_binary_accuracy: 0.7520 - dense_6_acc: 0.7773 - dense_6_binary_accuracy: 0.7773 - val_loss: 1.1128 - val_dense_8_loss: 0.5438 - val_dense_6_loss: 0.5691 - val_dense_8_acc: 0.7500 - val_dense_8_binary_accuracy: 0.7500 - val_dense_6_acc: 0.7188 - val_dense_6_binary_accuracy: 0.7188\n",
      "Epoch 12/40\n",
      "256/256 [==============================] - 5s 21ms/step - loss: 1.0541 - dense_8_loss: 0.5324 - dense_6_loss: 0.5217 - dense_8_acc: 0.7520 - dense_8_binary_accuracy: 0.7520 - dense_6_acc: 0.7773 - dense_6_binary_accuracy: 0.7773 - val_loss: 1.1087 - val_dense_8_loss: 0.5406 - val_dense_6_loss: 0.5682 - val_dense_8_acc: 0.7500 - val_dense_8_binary_accuracy: 0.7500 - val_dense_6_acc: 0.7188 - val_dense_6_binary_accuracy: 0.7188\n",
      "Epoch 13/40\n",
      "256/256 [==============================] - 5s 21ms/step - loss: 1.0408 - dense_8_loss: 0.5365 - dense_6_loss: 0.5044 - dense_8_acc: 0.7490 - dense_8_binary_accuracy: 0.7490 - dense_6_acc: 0.7773 - dense_6_binary_accuracy: 0.7773 - val_loss: 1.1052 - val_dense_8_loss: 0.5376 - val_dense_6_loss: 0.5677 - val_dense_8_acc: 0.7500 - val_dense_8_binary_accuracy: 0.7500 - val_dense_6_acc: 0.7188 - val_dense_6_binary_accuracy: 0.7188\n",
      "Epoch 14/40\n",
      "256/256 [==============================] - 5s 21ms/step - loss: 1.0414 - dense_8_loss: 0.5383 - dense_6_loss: 0.5031 - dense_8_acc: 0.7490 - dense_8_binary_accuracy: 0.7490 - dense_6_acc: 0.7656 - dense_6_binary_accuracy: 0.7656 - val_loss: 1.1002 - val_dense_8_loss: 0.5336 - val_dense_6_loss: 0.5666 - val_dense_8_acc: 0.7500 - val_dense_8_binary_accuracy: 0.7500 - val_dense_6_acc: 0.7188 - val_dense_6_binary_accuracy: 0.7188\n",
      "Epoch 15/40\n",
      "256/256 [==============================] - 5s 21ms/step - loss: 1.0190 - dense_8_loss: 0.5187 - dense_6_loss: 0.5003 - dense_8_acc: 0.7559 - dense_8_binary_accuracy: 0.7559 - dense_6_acc: 0.7695 - dense_6_binary_accuracy: 0.7695 - val_loss: 1.0948 - val_dense_8_loss: 0.5289 - val_dense_6_loss: 0.5658 - val_dense_8_acc: 0.7500 - val_dense_8_binary_accuracy: 0.7500 - val_dense_6_acc: 0.7188 - val_dense_6_binary_accuracy: 0.7188\n",
      "Epoch 16/40\n",
      "256/256 [==============================] - 5s 21ms/step - loss: 1.0222 - dense_8_loss: 0.5205 - dense_6_loss: 0.5017 - dense_8_acc: 0.7578 - dense_8_binary_accuracy: 0.7578 - dense_6_acc: 0.7656 - dense_6_binary_accuracy: 0.7656 - val_loss: 1.0891 - val_dense_8_loss: 0.5245 - val_dense_6_loss: 0.5646 - val_dense_8_acc: 0.7500 - val_dense_8_binary_accuracy: 0.7500 - val_dense_6_acc: 0.7188 - val_dense_6_binary_accuracy: 0.7188\n",
      "Epoch 17/40\n",
      "256/256 [==============================] - 5s 21ms/step - loss: 1.0113 - dense_8_loss: 0.5229 - dense_6_loss: 0.4884 - dense_8_acc: 0.7559 - dense_8_binary_accuracy: 0.7559 - dense_6_acc: 0.7852 - dense_6_binary_accuracy: 0.7852 - val_loss: 1.0837 - val_dense_8_loss: 0.5208 - val_dense_6_loss: 0.5629 - val_dense_8_acc: 0.7500 - val_dense_8_binary_accuracy: 0.7500 - val_dense_6_acc: 0.7188 - val_dense_6_binary_accuracy: 0.7188\n",
      "Epoch 18/40\n",
      "256/256 [==============================] - 5s 21ms/step - loss: 1.0074 - dense_8_loss: 0.5216 - dense_6_loss: 0.4858 - dense_8_acc: 0.7500 - dense_8_binary_accuracy: 0.7500 - dense_6_acc: 0.7695 - dense_6_binary_accuracy: 0.7695 - val_loss: 1.0788 - val_dense_8_loss: 0.5173 - val_dense_6_loss: 0.5614 - val_dense_8_acc: 0.7500 - val_dense_8_binary_accuracy: 0.7500 - val_dense_6_acc: 0.7188 - val_dense_6_binary_accuracy: 0.7188\n",
      "Epoch 19/40\n"
     ]
    },
    {
     "name": "stdout",
     "output_type": "stream",
     "text": [
      "256/256 [==============================] - 5s 21ms/step - loss: 0.9934 - dense_8_loss: 0.5134 - dense_6_loss: 0.4800 - dense_8_acc: 0.7539 - dense_8_binary_accuracy: 0.7539 - dense_6_acc: 0.7891 - dense_6_binary_accuracy: 0.7891 - val_loss: 1.0733 - val_dense_8_loss: 0.5141 - val_dense_6_loss: 0.5592 - val_dense_8_acc: 0.7500 - val_dense_8_binary_accuracy: 0.7500 - val_dense_6_acc: 0.7188 - val_dense_6_binary_accuracy: 0.7188\n",
      "Epoch 20/40\n",
      "256/256 [==============================] - 5s 21ms/step - loss: 0.9980 - dense_8_loss: 0.5023 - dense_6_loss: 0.4956 - dense_8_acc: 0.7529 - dense_8_binary_accuracy: 0.7529 - dense_6_acc: 0.7813 - dense_6_binary_accuracy: 0.7813 - val_loss: 1.0679 - val_dense_8_loss: 0.5097 - val_dense_6_loss: 0.5582 - val_dense_8_acc: 0.7500 - val_dense_8_binary_accuracy: 0.7500 - val_dense_6_acc: 0.7188 - val_dense_6_binary_accuracy: 0.7188\n",
      "Epoch 21/40\n",
      "256/256 [==============================] - 5s 21ms/step - loss: 0.9825 - dense_8_loss: 0.5096 - dense_6_loss: 0.4728 - dense_8_acc: 0.7471 - dense_8_binary_accuracy: 0.7471 - dense_6_acc: 0.7852 - dense_6_binary_accuracy: 0.7852 - val_loss: 1.0635 - val_dense_8_loss: 0.5063 - val_dense_6_loss: 0.5572 - val_dense_8_acc: 0.7500 - val_dense_8_binary_accuracy: 0.7500 - val_dense_6_acc: 0.7188 - val_dense_6_binary_accuracy: 0.7188\n",
      "Epoch 22/40\n",
      "256/256 [==============================] - 5s 21ms/step - loss: 0.9786 - dense_8_loss: 0.5005 - dense_6_loss: 0.4781 - dense_8_acc: 0.7529 - dense_8_binary_accuracy: 0.7529 - dense_6_acc: 0.7695 - dense_6_binary_accuracy: 0.7695 - val_loss: 1.0609 - val_dense_8_loss: 0.5040 - val_dense_6_loss: 0.5569 - val_dense_8_acc: 0.7500 - val_dense_8_binary_accuracy: 0.7500 - val_dense_6_acc: 0.7188 - val_dense_6_binary_accuracy: 0.7188\n",
      "Epoch 23/40\n",
      "256/256 [==============================] - 5s 21ms/step - loss: 0.9599 - dense_8_loss: 0.5039 - dense_6_loss: 0.4560 - dense_8_acc: 0.7500 - dense_8_binary_accuracy: 0.7500 - dense_6_acc: 0.7852 - dense_6_binary_accuracy: 0.7852 - val_loss: 1.0574 - val_dense_8_loss: 0.5013 - val_dense_6_loss: 0.5561 - val_dense_8_acc: 0.7500 - val_dense_8_binary_accuracy: 0.7500 - val_dense_6_acc: 0.7188 - val_dense_6_binary_accuracy: 0.7188\n",
      "Epoch 24/40\n",
      "256/256 [==============================] - 5s 21ms/step - loss: 0.9773 - dense_8_loss: 0.5048 - dense_6_loss: 0.4725 - dense_8_acc: 0.7539 - dense_8_binary_accuracy: 0.7539 - dense_6_acc: 0.7852 - dense_6_binary_accuracy: 0.7852 - val_loss: 1.0554 - val_dense_8_loss: 0.4996 - val_dense_6_loss: 0.5558 - val_dense_8_acc: 0.7500 - val_dense_8_binary_accuracy: 0.7500 - val_dense_6_acc: 0.7188 - val_dense_6_binary_accuracy: 0.7188\n",
      "Epoch 25/40\n",
      "256/256 [==============================] - 5s 21ms/step - loss: 0.9628 - dense_8_loss: 0.4976 - dense_6_loss: 0.4651 - dense_8_acc: 0.7529 - dense_8_binary_accuracy: 0.7529 - dense_6_acc: 0.7930 - dense_6_binary_accuracy: 0.7930 - val_loss: 1.0516 - val_dense_8_loss: 0.4977 - val_dense_6_loss: 0.5539 - val_dense_8_acc: 0.7500 - val_dense_8_binary_accuracy: 0.7500 - val_dense_6_acc: 0.7188 - val_dense_6_binary_accuracy: 0.7188\n",
      "Epoch 26/40\n",
      "256/256 [==============================] - 5s 21ms/step - loss: 0.9726 - dense_8_loss: 0.5033 - dense_6_loss: 0.4694 - dense_8_acc: 0.7500 - dense_8_binary_accuracy: 0.7500 - dense_6_acc: 0.7852 - dense_6_binary_accuracy: 0.7852 - val_loss: 1.0488 - val_dense_8_loss: 0.4968 - val_dense_6_loss: 0.5519 - val_dense_8_acc: 0.7539 - val_dense_8_binary_accuracy: 0.7539 - val_dense_6_acc: 0.7188 - val_dense_6_binary_accuracy: 0.7188\n",
      "Epoch 27/40\n",
      "256/256 [==============================] - 5s 21ms/step - loss: 0.9681 - dense_8_loss: 0.4940 - dense_6_loss: 0.4740 - dense_8_acc: 0.7539 - dense_8_binary_accuracy: 0.7539 - dense_6_acc: 0.8008 - dense_6_binary_accuracy: 0.8008 - val_loss: 1.0478 - val_dense_8_loss: 0.4961 - val_dense_6_loss: 0.5517 - val_dense_8_acc: 0.7539 - val_dense_8_binary_accuracy: 0.7539 - val_dense_6_acc: 0.7188 - val_dense_6_binary_accuracy: 0.7188\n",
      "Epoch 28/40\n",
      "256/256 [==============================] - 5s 21ms/step - loss: 0.9353 - dense_8_loss: 0.4780 - dense_6_loss: 0.4573 - dense_8_acc: 0.7666 - dense_8_binary_accuracy: 0.7666 - dense_6_acc: 0.7852 - dense_6_binary_accuracy: 0.7852 - val_loss: 1.0456 - val_dense_8_loss: 0.4933 - val_dense_6_loss: 0.5522 - val_dense_8_acc: 0.7539 - val_dense_8_binary_accuracy: 0.7539 - val_dense_6_acc: 0.7188 - val_dense_6_binary_accuracy: 0.7188\n",
      "Epoch 29/40\n",
      "256/256 [==============================] - 5s 21ms/step - loss: 0.9188 - dense_8_loss: 0.4798 - dense_6_loss: 0.4390 - dense_8_acc: 0.7646 - dense_8_binary_accuracy: 0.7646 - dense_6_acc: 0.7969 - dense_6_binary_accuracy: 0.7969 - val_loss: 1.0427 - val_dense_8_loss: 0.4916 - val_dense_6_loss: 0.5511 - val_dense_8_acc: 0.7539 - val_dense_8_binary_accuracy: 0.7539 - val_dense_6_acc: 0.7188 - val_dense_6_binary_accuracy: 0.7188\n",
      "Epoch 30/40\n",
      "256/256 [==============================] - 5s 21ms/step - loss: 0.9233 - dense_8_loss: 0.4879 - dense_6_loss: 0.4354 - dense_8_acc: 0.7520 - dense_8_binary_accuracy: 0.7520 - dense_6_acc: 0.8047 - dense_6_binary_accuracy: 0.8047 - val_loss: 1.0394 - val_dense_8_loss: 0.4909 - val_dense_6_loss: 0.5485 - val_dense_8_acc: 0.7539 - val_dense_8_binary_accuracy: 0.7539 - val_dense_6_acc: 0.7188 - val_dense_6_binary_accuracy: 0.7188\n",
      "Epoch 31/40\n",
      "256/256 [==============================] - 5s 21ms/step - loss: 0.9342 - dense_8_loss: 0.4868 - dense_6_loss: 0.4474 - dense_8_acc: 0.7490 - dense_8_binary_accuracy: 0.7490 - dense_6_acc: 0.7969 - dense_6_binary_accuracy: 0.7969 - val_loss: 1.0383 - val_dense_8_loss: 0.4906 - val_dense_6_loss: 0.5477 - val_dense_8_acc: 0.7539 - val_dense_8_binary_accuracy: 0.7539 - val_dense_6_acc: 0.7188 - val_dense_6_binary_accuracy: 0.7188\n",
      "Epoch 32/40\n",
      "256/256 [==============================] - 5s 21ms/step - loss: 0.9255 - dense_8_loss: 0.4849 - dense_6_loss: 0.4407 - dense_8_acc: 0.7539 - dense_8_binary_accuracy: 0.7539 - dense_6_acc: 0.8086 - dense_6_binary_accuracy: 0.8086 - val_loss: 1.0395 - val_dense_8_loss: 0.4900 - val_dense_6_loss: 0.5495 - val_dense_8_acc: 0.7539 - val_dense_8_binary_accuracy: 0.7539 - val_dense_6_acc: 0.7188 - val_dense_6_binary_accuracy: 0.7188\n",
      "Epoch 33/40\n",
      "256/256 [==============================] - 5s 21ms/step - loss: 0.9262 - dense_8_loss: 0.4875 - dense_6_loss: 0.4386 - dense_8_acc: 0.7500 - dense_8_binary_accuracy: 0.7500 - dense_6_acc: 0.7969 - dense_6_binary_accuracy: 0.7969 - val_loss: 1.0376 - val_dense_8_loss: 0.4890 - val_dense_6_loss: 0.5486 - val_dense_8_acc: 0.7539 - val_dense_8_binary_accuracy: 0.7539 - val_dense_6_acc: 0.7188 - val_dense_6_binary_accuracy: 0.7188\n",
      "Epoch 34/40\n",
      "256/256 [==============================] - 5s 21ms/step - loss: 0.9151 - dense_8_loss: 0.4906 - dense_6_loss: 0.4244 - dense_8_acc: 0.7529 - dense_8_binary_accuracy: 0.7529 - dense_6_acc: 0.7969 - dense_6_binary_accuracy: 0.7969 - val_loss: 1.0352 - val_dense_8_loss: 0.4889 - val_dense_6_loss: 0.5463 - val_dense_8_acc: 0.7539 - val_dense_8_binary_accuracy: 0.7539 - val_dense_6_acc: 0.7188 - val_dense_6_binary_accuracy: 0.7188\n",
      "Epoch 35/40\n",
      "256/256 [==============================] - 5s 21ms/step - loss: 0.9156 - dense_8_loss: 0.4809 - dense_6_loss: 0.4347 - dense_8_acc: 0.7520 - dense_8_binary_accuracy: 0.7520 - dense_6_acc: 0.8164 - dense_6_binary_accuracy: 0.8164 - val_loss: 1.0332 - val_dense_8_loss: 0.4874 - val_dense_6_loss: 0.5458 - val_dense_8_acc: 0.7539 - val_dense_8_binary_accuracy: 0.7539 - val_dense_6_acc: 0.7188 - val_dense_6_binary_accuracy: 0.7188\n",
      "Epoch 36/40\n",
      "256/256 [==============================] - 5s 21ms/step - loss: 0.8876 - dense_8_loss: 0.4663 - dense_6_loss: 0.4213 - dense_8_acc: 0.7686 - dense_8_binary_accuracy: 0.7686 - dense_6_acc: 0.8203 - dense_6_binary_accuracy: 0.8203 - val_loss: 1.0334 - val_dense_8_loss: 0.4864 - val_dense_6_loss: 0.5470 - val_dense_8_acc: 0.7578 - val_dense_8_binary_accuracy: 0.7578 - val_dense_6_acc: 0.7188 - val_dense_6_binary_accuracy: 0.7188\n",
      "Epoch 37/40\n",
      "256/256 [==============================] - 5s 21ms/step - loss: 0.8950 - dense_8_loss: 0.4732 - dense_6_loss: 0.4219 - dense_8_acc: 0.7686 - dense_8_binary_accuracy: 0.7686 - dense_6_acc: 0.8086 - dense_6_binary_accuracy: 0.8086 - val_loss: 1.0306 - val_dense_8_loss: 0.4867 - val_dense_6_loss: 0.5439 - val_dense_8_acc: 0.7539 - val_dense_8_binary_accuracy: 0.7539 - val_dense_6_acc: 0.7344 - val_dense_6_binary_accuracy: 0.7344\n"
     ]
    },
    {
     "name": "stdout",
     "output_type": "stream",
     "text": [
      "Epoch 38/40\n",
      "256/256 [==============================] - 5s 21ms/step - loss: 0.8865 - dense_8_loss: 0.4749 - dense_6_loss: 0.4116 - dense_8_acc: 0.7637 - dense_8_binary_accuracy: 0.7637 - dense_6_acc: 0.8086 - dense_6_binary_accuracy: 0.8086 - val_loss: 1.0295 - val_dense_8_loss: 0.4867 - val_dense_6_loss: 0.5427 - val_dense_8_acc: 0.7578 - val_dense_8_binary_accuracy: 0.7578 - val_dense_6_acc: 0.7344 - val_dense_6_binary_accuracy: 0.7344\n",
      "Epoch 39/40\n",
      "256/256 [==============================] - 5s 21ms/step - loss: 0.8541 - dense_8_loss: 0.4682 - dense_6_loss: 0.3860 - dense_8_acc: 0.7686 - dense_8_binary_accuracy: 0.7686 - dense_6_acc: 0.8359 - dense_6_binary_accuracy: 0.8359 - val_loss: 1.0264 - val_dense_8_loss: 0.4861 - val_dense_6_loss: 0.5403 - val_dense_8_acc: 0.7539 - val_dense_8_binary_accuracy: 0.7539 - val_dense_6_acc: 0.7344 - val_dense_6_binary_accuracy: 0.7344\n",
      "Epoch 40/40\n",
      "256/256 [==============================] - 5s 21ms/step - loss: 0.8653 - dense_8_loss: 0.4683 - dense_6_loss: 0.3971 - dense_8_acc: 0.7695 - dense_8_binary_accuracy: 0.7695 - dense_6_acc: 0.8555 - dense_6_binary_accuracy: 0.8555 - val_loss: 1.0260 - val_dense_8_loss: 0.4860 - val_dense_6_loss: 0.5400 - val_dense_8_acc: 0.7539 - val_dense_8_binary_accuracy: 0.7539 - val_dense_6_acc: 0.7344 - val_dense_6_binary_accuracy: 0.7344\n"
     ]
    }
   ],
   "source": [
    "\n",
    "history = model.fit(x=[train_images,cnn_texts_mat], y=[y,tags],\n",
    "                           epochs=40,\n",
    "                           batch_size=25,\n",
    "                           validation_split=0.2,\n",
    "                           shuffle=True,\n",
    "                           verbose=1)"
   ]
  },
  {
   "cell_type": "code",
   "execution_count": null,
   "metadata": {},
   "outputs": [],
   "source": [
    "model.save_weights('hybrid_only.h5')"
   ]
  }
 ],
 "metadata": {
  "kernelspec": {
   "display_name": "Python 3",
   "language": "python",
   "name": "python3"
  },
  "language_info": {
   "codemirror_mode": {
    "name": "ipython",
    "version": 3
   },
   "file_extension": ".py",
   "mimetype": "text/x-python",
   "name": "python",
   "nbconvert_exporter": "python",
   "pygments_lexer": "ipython3",
   "version": "3.6.8"
  }
 },
 "nbformat": 4,
 "nbformat_minor": 2
}
