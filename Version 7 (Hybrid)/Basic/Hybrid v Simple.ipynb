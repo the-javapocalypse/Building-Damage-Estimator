{
 "cells": [
  {
   "cell_type": "code",
   "execution_count": 1,
   "metadata": {},
   "outputs": [
    {
     "name": "stderr",
     "output_type": "stream",
     "text": [
      "Using TensorFlow backend.\n"
     ]
    }
   ],
   "source": [
    "from keras.models import Sequential\n",
    "from keras.layers import Dense, Dropout, Activation,Flatten\n",
    "from keras.layers import Embedding\n",
    "from keras.layers import Conv1D, GlobalMaxPooling1D\n",
    "from keras.preprocessing.image import ImageDataGenerator, array_to_img, img_to_array, load_img\n",
    "from keras.preprocessing.text import Tokenizer\n",
    "from keras.preprocessing import sequence\n",
    "from keras import metrics\n",
    "from sklearn.preprocessing import LabelEncoder\n",
    "from sklearn.utils import shuffle\n",
    "\n",
    "from keras import metrics\n",
    "from keras.layers.merge import concatenate\n",
    "import sys\n",
    "sys.path.append('../../')\n",
    "from Utilities.model_visualization import model_to_png\n",
    "\n",
    "from PIL import Image # used for loading images\n",
    "import numpy as np\n",
    "from numpy import asarray\n",
    "import matplotlib.pyplot as plt\n",
    "\n",
    "import os # used for navigating to image path\n",
    "\n",
    "from keras.layers import Input\n",
    "\n",
    "import cv2\n",
    "from keras.layers import concatenate\n",
    "from keras.models import Model\n",
    "from keras.applications import VGG16\n",
    "\n",
    "import pandas as pd\n",
    "from glob import glob\n",
    "import tensorflow as tf\n",
    "\n",
    "from keras.callbacks import ModelCheckpoint\n",
    "from sklearn.model_selection import StratifiedKFold\n",
    "from keras.preprocessing.image import ImageDataGenerator, img_to_array, load_img\n",
    "from keras.callbacks import EarlyStopping\n",
    "\n",
    "import pickle\n",
    "from scipy import misc\n",
    "from keras import optimizers\n",
    "\n",
    "from keras.utils import plot_model\n",
    "\n",
    "from numpy import array\n",
    "from numpy import argmax\n",
    "from sklearn.preprocessing import LabelEncoder\n",
    "from sklearn.preprocessing import OneHotEncoder\n",
    "\n",
    "import time\n",
    "\n",
    "%matplotlib inline"
   ]
  },
  {
   "cell_type": "markdown",
   "metadata": {},
   "source": [
    "<h1>Loading Data</h1>"
   ]
  },
  {
   "cell_type": "code",
   "execution_count": 2,
   "metadata": {},
   "outputs": [
    {
     "name": "stdout",
     "output_type": "stream",
     "text": [
      "text          Sunny days sweeping clouds away #Irma #PublicP...\n",
      "text_info                                           informative\n",
      "image_path    data_image/hurricane_irma/18_9_2017/9098755908...\n",
      "damage                                              mild_damage\n",
      "Name: 0, dtype: object\n"
     ]
    }
   ],
   "source": [
    "df = pd.read_pickle('processed_df.pkl')\n",
    "print(df.iloc[0])"
   ]
  },
  {
   "cell_type": "code",
   "execution_count": 3,
   "metadata": {},
   "outputs": [],
   "source": [
    "split_pos = int(df['text'].count()*0.8)\n",
    "train = df[:split_pos]\n",
    "test = df[split_pos:]"
   ]
  },
  {
   "cell_type": "markdown",
   "metadata": {},
   "source": [
    "<h1>CNN Text Model</h1>"
   ]
  },
  {
   "cell_type": "code",
   "execution_count": 4,
   "metadata": {},
   "outputs": [],
   "source": [
    "dataColumn = 'text'\n",
    "labelColumn = 'text_info'\n",
    "\n",
    "tags = train[labelColumn]\n",
    "texts = train[dataColumn]\n",
    "\n",
    "tags_Y = test[labelColumn]\n",
    "texts_Y = test[dataColumn]"
   ]
  },
  {
   "cell_type": "code",
   "execution_count": 5,
   "metadata": {},
   "outputs": [],
   "source": [
    "num_max = 1000\n",
    "# preprocess\n",
    "le = LabelEncoder()\n",
    "tags = le.fit_transform(tags.astype(str))\n",
    "tok = Tokenizer(num_words=num_max)\n",
    "tok.fit_on_texts(texts)\n",
    "mat_texts = tok.texts_to_matrix(texts,mode='count')\n",
    "\n",
    "# For testing data\n",
    "le_Y = LabelEncoder()\n",
    "tags_Y = le_Y.fit_transform(tags_Y.astype(str))\n",
    "tok_Y = Tokenizer(num_words=num_max)\n",
    "tok_Y.fit_on_texts(texts_Y)\n",
    "mat_texts_Y = tok.texts_to_matrix(texts_Y,mode='count')"
   ]
  },
  {
   "cell_type": "code",
   "execution_count": 6,
   "metadata": {},
   "outputs": [],
   "source": [
    "# for cnn preproces\n",
    "max_len = 100\n",
    "cnn_texts_seq = tok.texts_to_sequences(texts)\n",
    "cnn_texts_mat = sequence.pad_sequences(cnn_texts_seq,maxlen=max_len)\n",
    "\n",
    "# For testing data\n",
    "cnn_texts_seq_Y = tok.texts_to_sequences(texts_Y)\n",
    "cnn_texts_mat_Y = sequence.pad_sequences(cnn_texts_seq_Y,maxlen=max_len)"
   ]
  },
  {
   "cell_type": "code",
   "execution_count": 7,
   "metadata": {},
   "outputs": [],
   "source": [
    "filepath = \"text_weights.h5\"\n",
    "checkpoint = ModelCheckpoint(filepath, monitor='val_acc', verbose=1, save_best_only=True, mode='max', period=1)\n",
    "early_stopping = EarlyStopping(monitor='val_acc', min_delta=0, patience=4, verbose=1, mode='max')\n",
    "callbacks_list = [checkpoint, early_stopping]"
   ]
  },
  {
   "cell_type": "code",
   "execution_count": 8,
   "metadata": {},
   "outputs": [],
   "source": [
    "def get_hybrid_model():    # Pre Trained Embeddings\n",
    "    \n",
    "    # load the whole embedding into memory\n",
    "    embeddings_index = dict()\n",
    "    f = open('Embeddings/glove.6B.100d.txt', encoding=\"utf8\")\n",
    "    for line in f:\n",
    "        values = line.split()\n",
    "        word = values[0]\n",
    "        coefs = asarray(values[1:], dtype='float32')\n",
    "        embeddings_index[word] = coefs\n",
    "    f.close()\n",
    "    print('Found %s word vectors.' % len(embeddings_index))\n",
    "    \n",
    "    # create a weight matrix for words in training docs\n",
    "    embedding_matrix = np.zeros((len(tok.word_index) + 1, 100))\n",
    "    for word, i in tok.word_index.items():\n",
    "        embedding_vector = embeddings_index.get(word)\n",
    "        if embedding_vector is not None:\n",
    "            embedding_matrix[i] = embedding_vector\n",
    "\n",
    "    #text classifier\n",
    "    inputs = Input(shape=(100,))\n",
    "    e = Embedding(len(tok.word_index) + 1,\n",
    "                  100, \n",
    "                  weights=[embedding_matrix],\n",
    "                  input_length=max_len, \n",
    "                  trainable=False)(inputs)\n",
    "    x = Dropout(0.2)(e)\n",
    "    x = Conv1D(128,\n",
    "               3,\n",
    "               padding='valid',\n",
    "               activation='relu',\n",
    "               strides=1)(x)\n",
    "    x = GlobalMaxPooling1D()(x)\n",
    "    x = Dense(128, activation='relu')(x)\n",
    "    x = Dropout(0.2)(x)\n",
    "    hybrid_link = Dense(32, activation='relu', name='hybrid_link')(x)\n",
    "    x = Dense(1, activation='sigmoid', name='Text_Classifier')(hybrid_link)\n",
    "    text_classifier = x\n",
    "    #image classifier\n",
    "    IMAGE_SIZE = [224, 224]  # we will keep the image size as (64,64). You can increase the size for better results. \n",
    "    vgg = VGG16(input_shape = (224, 224, 3), weights = None, include_top = True)  # input_shape = (64,64,3) as required by VGG\n",
    "    x = (vgg.layers[-2].output)\n",
    "    image_model = Dense(4, activation = 'softmax')(x)  # adding the output layer with softmax function as this is a multi label classification problem.\n",
    "    #hybrid model\n",
    "    concatenate_layer = concatenate([image_model, hybrid_link]) \n",
    "    hybrid = Dense(4, activation='softmax', name='Hybrid_Classifier')(concatenate_layer)\n",
    "    model = Model(inputs=[vgg.input, inputs], outputs=[hybrid,text_classifier])\n",
    "    return model"
   ]
  },
  {
   "cell_type": "code",
   "execution_count": 9,
   "metadata": {},
   "outputs": [],
   "source": [
    "def get_vgg_model():    # Pre Trained Embeddings\n",
    "    \n",
    "    #image classifier\n",
    "    IMAGE_SIZE = [224, 224]  # we will keep the image size as (64,64). You can increase the size for better results. \n",
    "    vgg = VGG16(input_shape = (224, 224, 3), weights = None, include_top = True)  # input_shape = (64,64,3) as required by VGG\n",
    "    x = (vgg.layers[-2].output)\n",
    "    image_model = Dense(4, activation = 'softmax',name='Hybrid_Classifier')(x)  # adding the output layer with softmax function as this is a multi label classification problem.\n",
    "    model = Model(inputs=[vgg.input], outputs=[image_model])\n",
    "    return model"
   ]
  },
  {
   "cell_type": "code",
   "execution_count": 10,
   "metadata": {},
   "outputs": [
    {
     "name": "stdout",
     "output_type": "stream",
     "text": [
      "Found 400000 word vectors.\n"
     ]
    }
   ],
   "source": [
    "hybrid_model = get_hybrid_model()\n",
    "vgg_model = get_vgg_model()\n",
    "hybrid_model.compile(loss=['categorical_crossentropy','binary_crossentropy'],\n",
    "                       optimizer= optimizers.adam(lr=0.00008),\n",
    "                       metrics=['accuracy',metrics.mae, metrics.categorical_accuracy])\n",
    "vgg_model.compile(loss='categorical_crossentropy',\n",
    "                       optimizer= optimizers.adam(lr=0.00008),\n",
    "                       metrics=['accuracy',metrics.mae, metrics.categorical_accuracy])\n",
    "# hybrid_model.summary()\n",
    "plot_model(hybrid_model, to_file='hybrid.png')\n",
    "plot_model(vgg_model, to_file='vgg.png')\n"
   ]
  },
  {
   "cell_type": "markdown",
   "metadata": {},
   "source": [
    "<h1>CNN Image</h1>"
   ]
  },
  {
   "cell_type": "code",
   "execution_count": 11,
   "metadata": {},
   "outputs": [],
   "source": [
    "IMG_SIZE =224\n",
    "dataset_dir = 'H:/FYP DATASETS/FYP DATASETS/Crisis/'\n",
    "\n",
    "def load_img(img):\n",
    "    path = os.path.join(dataset_dir, img)\n",
    "    rows=224\n",
    "    columns=224\n",
    "    img= cv2.resize(cv2.imread(path,cv2.IMREAD_COLOR),(rows,columns),interpolation=cv2.INTER_CUBIC)\n",
    "    return img"
   ]
  },
  {
   "cell_type": "code",
   "execution_count": 12,
   "metadata": {},
   "outputs": [],
   "source": [
    "for index, row in train.iterrows():\n",
    "    train.at[index,'image_path'] = load_img(row['image_path'])"
   ]
  },
  {
   "cell_type": "code",
   "execution_count": 13,
   "metadata": {},
   "outputs": [],
   "source": [
    "def encode_label(damage):\n",
    "    # integer encode\n",
    "    damage = np.array(damage)\n",
    "    label_encoder = LabelEncoder()\n",
    "    integer_encoded = label_encoder.fit_transform(damage)\n",
    "    # binary encode\n",
    "    onehot_encoder = OneHotEncoder(sparse=False)\n",
    "    integer_encoded = integer_encoded.reshape(len(integer_encoded), 1)\n",
    "    onehot_encoded = onehot_encoder.fit_transform(integer_encoded)\n",
    "    return onehot_encoded"
   ]
  },
  {
   "cell_type": "code",
   "execution_count": 14,
   "metadata": {},
   "outputs": [
    {
     "name": "stderr",
     "output_type": "stream",
     "text": [
      "C:\\Users\\Saad\\AppData\\Local\\conda\\conda\\envs\\tf_gpu\\lib\\site-packages\\sklearn\\preprocessing\\_encoders.py:368: FutureWarning: The handling of integer data will change in version 0.22. Currently, the categories are determined based on the range [0, max(values)], while in the future they will be determined based on the unique values.\n",
      "If you want the future behaviour and silence this warning, you can specify \"categories='auto'\".\n",
      "In case you used a LabelEncoder before this OneHotEncoder to convert the categories to integers, then you can now use the OneHotEncoder directly.\n",
      "  warnings.warn(msg, FutureWarning)\n"
     ]
    },
    {
     "name": "stdout",
     "output_type": "stream",
     "text": [
      "text          Sunny days sweeping clouds away #Irma #PublicP...\n",
      "text_info                                           informative\n",
      "image_path    [[[222, 122, 4], [219, 125, 6], [221, 131, 12]...\n",
      "damage                                              mild_damage\n",
      "Name: 0, dtype: object\n"
     ]
    }
   ],
   "source": [
    "y = encode_label(train.iloc[:]['damage'])\n",
    "print(train.iloc[0])"
   ]
  },
  {
   "cell_type": "code",
   "execution_count": 15,
   "metadata": {},
   "outputs": [
    {
     "name": "stdout",
     "output_type": "stream",
     "text": [
      "['mild_damage' 'little_or_no_damage' 'severe_damage'\n",
      " 'dont_know_or_cant_judge']\n"
     ]
    }
   ],
   "source": [
    "print(train.damage.unique())"
   ]
  },
  {
   "cell_type": "code",
   "execution_count": 16,
   "metadata": {},
   "outputs": [],
   "source": [
    "train_images = train['image_path'].tolist()\n",
    "# no need to convert y to list as it is 1 dim encoding takes care of it\n",
    "train_images = np.array(train_images)\n",
    "train_text = np.array(train['text'].tolist())"
   ]
  },
  {
   "cell_type": "code",
   "execution_count": 17,
   "metadata": {},
   "outputs": [
    {
     "name": "stdout",
     "output_type": "stream",
     "text": [
      "(320, 100)\n"
     ]
    }
   ],
   "source": [
    "print(cnn_texts_mat.shape)"
   ]
  },
  {
   "cell_type": "code",
   "execution_count": 18,
   "metadata": {},
   "outputs": [
    {
     "name": "stdout",
     "output_type": "stream",
     "text": [
      "Train on 256 samples, validate on 64 samples\n",
      "Epoch 1/40\n",
      "256/256 [==============================] - 35s 135ms/step - loss: 2.0695 - Hybrid_Classifier_loss: 1.3787 - Text_Classifier_loss: 0.6908 - Hybrid_Classifier_acc: 0.3242 - Hybrid_Classifier_mean_absolute_error: 0.3643 - Hybrid_Classifier_categorical_accuracy: 0.3242 - Text_Classifier_acc: 0.5547 - Text_Classifier_mean_absolute_error: 0.4902 - Text_Classifier_categorical_accuracy: 1.0000 - val_loss: 2.0203 - val_Hybrid_Classifier_loss: 1.3842 - val_Text_Classifier_loss: 0.6361 - val_Hybrid_Classifier_acc: 0.3281 - val_Hybrid_Classifier_mean_absolute_error: 0.3666 - val_Hybrid_Classifier_categorical_accuracy: 0.3281 - val_Text_Classifier_acc: 0.6563 - val_Text_Classifier_mean_absolute_error: 0.4643 - val_Text_Classifier_categorical_accuracy: 1.0000\n",
      "Epoch 2/40\n",
      "256/256 [==============================] - 7s 29ms/step - loss: 1.8703 - Hybrid_Classifier_loss: 1.2905 - Text_Classifier_loss: 0.5798 - Hybrid_Classifier_acc: 0.3750 - Hybrid_Classifier_mean_absolute_error: 0.3511 - Hybrid_Classifier_categorical_accuracy: 0.3750 - Text_Classifier_acc: 0.7422 - Text_Classifier_mean_absolute_error: 0.4191 - Text_Classifier_categorical_accuracy: 1.0000 - val_loss: 1.9268 - val_Hybrid_Classifier_loss: 1.3320 - val_Text_Classifier_loss: 0.5948 - val_Hybrid_Classifier_acc: 0.3281 - val_Hybrid_Classifier_mean_absolute_error: 0.3599 - val_Hybrid_Classifier_categorical_accuracy: 0.3281 - val_Text_Classifier_acc: 0.7031 - val_Text_Classifier_mean_absolute_error: 0.4265 - val_Text_Classifier_categorical_accuracy: 1.0000\n",
      "Epoch 3/40\n",
      "256/256 [==============================] - 7s 29ms/step - loss: 1.8071 - Hybrid_Classifier_loss: 1.2802 - Text_Classifier_loss: 0.5269 - Hybrid_Classifier_acc: 0.3516 - Hybrid_Classifier_mean_absolute_error: 0.3490 - Hybrid_Classifier_categorical_accuracy: 0.3516 - Text_Classifier_acc: 0.7852 - Text_Classifier_mean_absolute_error: 0.3694 - Text_Classifier_categorical_accuracy: 1.0000 - val_loss: 1.8799 - val_Hybrid_Classifier_loss: 1.2967 - val_Text_Classifier_loss: 0.5832 - val_Hybrid_Classifier_acc: 0.3438 - val_Hybrid_Classifier_mean_absolute_error: 0.3550 - val_Hybrid_Classifier_categorical_accuracy: 0.3438 - val_Text_Classifier_acc: 0.7187 - val_Text_Classifier_mean_absolute_error: 0.4045 - val_Text_Classifier_categorical_accuracy: 1.0000\n",
      "Epoch 4/40\n",
      "256/256 [==============================] - 7s 29ms/step - loss: 1.8000 - Hybrid_Classifier_loss: 1.2581 - Text_Classifier_loss: 0.5419 - Hybrid_Classifier_acc: 0.3633 - Hybrid_Classifier_mean_absolute_error: 0.3455 - Hybrid_Classifier_categorical_accuracy: 0.3633 - Text_Classifier_acc: 0.7773 - Text_Classifier_mean_absolute_error: 0.3577 - Text_Classifier_categorical_accuracy: 1.0000 - val_loss: 1.8522 - val_Hybrid_Classifier_loss: 1.2714 - val_Text_Classifier_loss: 0.5808 - val_Hybrid_Classifier_acc: 0.3125 - val_Hybrid_Classifier_mean_absolute_error: 0.3530 - val_Hybrid_Classifier_categorical_accuracy: 0.3125 - val_Text_Classifier_acc: 0.7187 - val_Text_Classifier_mean_absolute_error: 0.3926 - val_Text_Classifier_categorical_accuracy: 1.0000\n",
      "Epoch 5/40\n",
      "256/256 [==============================] - 7s 29ms/step - loss: 1.7628 - Hybrid_Classifier_loss: 1.2338 - Text_Classifier_loss: 0.5290 - Hybrid_Classifier_acc: 0.3828 - Hybrid_Classifier_mean_absolute_error: 0.3434 - Hybrid_Classifier_categorical_accuracy: 0.3828 - Text_Classifier_acc: 0.7695 - Text_Classifier_mean_absolute_error: 0.3464 - Text_Classifier_categorical_accuracy: 1.0000 - val_loss: 1.8354 - val_Hybrid_Classifier_loss: 1.2551 - val_Text_Classifier_loss: 0.5803 - val_Hybrid_Classifier_acc: 0.3281 - val_Hybrid_Classifier_mean_absolute_error: 0.3508 - val_Hybrid_Classifier_categorical_accuracy: 0.3281 - val_Text_Classifier_acc: 0.7187 - val_Text_Classifier_mean_absolute_error: 0.3921 - val_Text_Classifier_categorical_accuracy: 1.0000\n",
      "Epoch 6/40\n",
      "256/256 [==============================] - 7s 29ms/step - loss: 1.7090 - Hybrid_Classifier_loss: 1.1917 - Text_Classifier_loss: 0.5172 - Hybrid_Classifier_acc: 0.3906 - Hybrid_Classifier_mean_absolute_error: 0.3379 - Hybrid_Classifier_categorical_accuracy: 0.3906 - Text_Classifier_acc: 0.7695 - Text_Classifier_mean_absolute_error: 0.3379 - Text_Classifier_categorical_accuracy: 1.0000 - val_loss: 1.8191 - val_Hybrid_Classifier_loss: 1.2390 - val_Text_Classifier_loss: 0.5801 - val_Hybrid_Classifier_acc: 0.3281 - val_Hybrid_Classifier_mean_absolute_error: 0.3490 - val_Hybrid_Classifier_categorical_accuracy: 0.3281 - val_Text_Classifier_acc: 0.7187 - val_Text_Classifier_mean_absolute_error: 0.3862 - val_Text_Classifier_categorical_accuracy: 1.0000\n",
      "Epoch 7/40\n",
      "256/256 [==============================] - 7s 29ms/step - loss: 1.6910 - Hybrid_Classifier_loss: 1.1850 - Text_Classifier_loss: 0.5060 - Hybrid_Classifier_acc: 0.3828 - Hybrid_Classifier_mean_absolute_error: 0.3356 - Hybrid_Classifier_categorical_accuracy: 0.3828 - Text_Classifier_acc: 0.7852 - Text_Classifier_mean_absolute_error: 0.3276 - Text_Classifier_categorical_accuracy: 1.0000 - val_loss: 1.8033 - val_Hybrid_Classifier_loss: 1.2238 - val_Text_Classifier_loss: 0.5795 - val_Hybrid_Classifier_acc: 0.3438 - val_Hybrid_Classifier_mean_absolute_error: 0.3477 - val_Hybrid_Classifier_categorical_accuracy: 0.3438 - val_Text_Classifier_acc: 0.7187 - val_Text_Classifier_mean_absolute_error: 0.3859 - val_Text_Classifier_categorical_accuracy: 1.0000\n",
      "Epoch 8/40\n",
      "256/256 [==============================] - 7s 29ms/step - loss: 1.6516 - Hybrid_Classifier_loss: 1.1541 - Text_Classifier_loss: 0.4975 - Hybrid_Classifier_acc: 0.4570 - Hybrid_Classifier_mean_absolute_error: 0.3306 - Hybrid_Classifier_categorical_accuracy: 0.4570 - Text_Classifier_acc: 0.7812 - Text_Classifier_mean_absolute_error: 0.3272 - Text_Classifier_categorical_accuracy: 1.0000 - val_loss: 1.7960 - val_Hybrid_Classifier_loss: 1.2158 - val_Text_Classifier_loss: 0.5802 - val_Hybrid_Classifier_acc: 0.3438 - val_Hybrid_Classifier_mean_absolute_error: 0.3458 - val_Hybrid_Classifier_categorical_accuracy: 0.3438 - val_Text_Classifier_acc: 0.7187 - val_Text_Classifier_mean_absolute_error: 0.3908 - val_Text_Classifier_categorical_accuracy: 1.0000\n",
      "Epoch 9/40\n",
      "256/256 [==============================] - 7s 29ms/step - loss: 1.6565 - Hybrid_Classifier_loss: 1.1595 - Text_Classifier_loss: 0.4970 - Hybrid_Classifier_acc: 0.4414 - Hybrid_Classifier_mean_absolute_error: 0.3300 - Hybrid_Classifier_categorical_accuracy: 0.4414 - Text_Classifier_acc: 0.7773 - Text_Classifier_mean_absolute_error: 0.3273 - Text_Classifier_categorical_accuracy: 1.0000 - val_loss: 1.7853 - val_Hybrid_Classifier_loss: 1.2055 - val_Text_Classifier_loss: 0.5798 - val_Hybrid_Classifier_acc: 0.3438 - val_Hybrid_Classifier_mean_absolute_error: 0.3454 - val_Hybrid_Classifier_categorical_accuracy: 0.3438 - val_Text_Classifier_acc: 0.7187 - val_Text_Classifier_mean_absolute_error: 0.3841 - val_Text_Classifier_categorical_accuracy: 1.0000\n",
      "Epoch 10/40\n",
      "256/256 [==============================] - 7s 29ms/step - loss: 1.7046 - Hybrid_Classifier_loss: 1.1896 - Text_Classifier_loss: 0.5151 - Hybrid_Classifier_acc: 0.3711 - Hybrid_Classifier_mean_absolute_error: 0.3365 - Hybrid_Classifier_categorical_accuracy: 0.3711 - Text_Classifier_acc: 0.7813 - Text_Classifier_mean_absolute_error: 0.3325 - Text_Classifier_categorical_accuracy: 1.0000 - val_loss: 1.7779 - val_Hybrid_Classifier_loss: 1.2000 - val_Text_Classifier_loss: 0.5779 - val_Hybrid_Classifier_acc: 0.3594 - val_Hybrid_Classifier_mean_absolute_error: 0.3446 - val_Hybrid_Classifier_categorical_accuracy: 0.3594 - val_Text_Classifier_acc: 0.7187 - val_Text_Classifier_mean_absolute_error: 0.3890 - val_Text_Classifier_categorical_accuracy: 1.0000\n",
      "Epoch 11/40\n",
      "256/256 [==============================] - 7s 29ms/step - loss: 1.6620 - Hybrid_Classifier_loss: 1.1589 - Text_Classifier_loss: 0.5031 - Hybrid_Classifier_acc: 0.4063 - Hybrid_Classifier_mean_absolute_error: 0.3322 - Hybrid_Classifier_categorical_accuracy: 0.4063 - Text_Classifier_acc: 0.7930 - Text_Classifier_mean_absolute_error: 0.3302 - Text_Classifier_categorical_accuracy: 1.0000 - val_loss: 1.7696 - val_Hybrid_Classifier_loss: 1.1925 - val_Text_Classifier_loss: 0.5770 - val_Hybrid_Classifier_acc: 0.3594 - val_Hybrid_Classifier_mean_absolute_error: 0.3435 - val_Hybrid_Classifier_categorical_accuracy: 0.3594 - val_Text_Classifier_acc: 0.7187 - val_Text_Classifier_mean_absolute_error: 0.3831 - val_Text_Classifier_categorical_accuracy: 1.0000\n"
     ]
    },
    {
     "name": "stdout",
     "output_type": "stream",
     "text": [
      "Epoch 12/40\n",
      "256/256 [==============================] - 7s 29ms/step - loss: 1.6447 - Hybrid_Classifier_loss: 1.1446 - Text_Classifier_loss: 0.5001 - Hybrid_Classifier_acc: 0.4180 - Hybrid_Classifier_mean_absolute_error: 0.3302 - Hybrid_Classifier_categorical_accuracy: 0.4180 - Text_Classifier_acc: 0.7852 - Text_Classifier_mean_absolute_error: 0.3229 - Text_Classifier_categorical_accuracy: 1.0000 - val_loss: 1.7634 - val_Hybrid_Classifier_loss: 1.1864 - val_Text_Classifier_loss: 0.5769 - val_Hybrid_Classifier_acc: 0.3594 - val_Hybrid_Classifier_mean_absolute_error: 0.3423 - val_Hybrid_Classifier_categorical_accuracy: 0.3594 - val_Text_Classifier_acc: 0.7187 - val_Text_Classifier_mean_absolute_error: 0.3844 - val_Text_Classifier_categorical_accuracy: 1.0000\n",
      "Epoch 13/40\n",
      "256/256 [==============================] - 7s 29ms/step - loss: 1.6212 - Hybrid_Classifier_loss: 1.1500 - Text_Classifier_loss: 0.4712 - Hybrid_Classifier_acc: 0.4063 - Hybrid_Classifier_mean_absolute_error: 0.3298 - Hybrid_Classifier_categorical_accuracy: 0.4063 - Text_Classifier_acc: 0.7930 - Text_Classifier_mean_absolute_error: 0.3159 - Text_Classifier_categorical_accuracy: 1.0000 - val_loss: 1.7553 - val_Hybrid_Classifier_loss: 1.1808 - val_Text_Classifier_loss: 0.5745 - val_Hybrid_Classifier_acc: 0.3438 - val_Hybrid_Classifier_mean_absolute_error: 0.3415 - val_Hybrid_Classifier_categorical_accuracy: 0.3438 - val_Text_Classifier_acc: 0.7187 - val_Text_Classifier_mean_absolute_error: 0.3834 - val_Text_Classifier_categorical_accuracy: 1.0000\n",
      "Epoch 14/40\n",
      "256/256 [==============================] - 7s 29ms/step - loss: 1.5739 - Hybrid_Classifier_loss: 1.1108 - Text_Classifier_loss: 0.4631 - Hybrid_Classifier_acc: 0.4688 - Hybrid_Classifier_mean_absolute_error: 0.3218 - Hybrid_Classifier_categorical_accuracy: 0.4688 - Text_Classifier_acc: 0.7852 - Text_Classifier_mean_absolute_error: 0.3116 - Text_Classifier_categorical_accuracy: 1.0000 - val_loss: 1.7469 - val_Hybrid_Classifier_loss: 1.1748 - val_Text_Classifier_loss: 0.5722 - val_Hybrid_Classifier_acc: 0.3438 - val_Hybrid_Classifier_mean_absolute_error: 0.3404 - val_Hybrid_Classifier_categorical_accuracy: 0.3438 - val_Text_Classifier_acc: 0.7187 - val_Text_Classifier_mean_absolute_error: 0.3800 - val_Text_Classifier_categorical_accuracy: 1.0000\n",
      "Epoch 15/40\n",
      "256/256 [==============================] - 7s 29ms/step - loss: 1.6113 - Hybrid_Classifier_loss: 1.1243 - Text_Classifier_loss: 0.4870 - Hybrid_Classifier_acc: 0.4453 - Hybrid_Classifier_mean_absolute_error: 0.3248 - Hybrid_Classifier_categorical_accuracy: 0.4453 - Text_Classifier_acc: 0.7852 - Text_Classifier_mean_absolute_error: 0.3191 - Text_Classifier_categorical_accuracy: 1.0000 - val_loss: 1.7405 - val_Hybrid_Classifier_loss: 1.1694 - val_Text_Classifier_loss: 0.5711 - val_Hybrid_Classifier_acc: 0.3438 - val_Hybrid_Classifier_mean_absolute_error: 0.3396 - val_Hybrid_Classifier_categorical_accuracy: 0.3438 - val_Text_Classifier_acc: 0.7187 - val_Text_Classifier_mean_absolute_error: 0.3810 - val_Text_Classifier_categorical_accuracy: 1.0000\n",
      "Epoch 16/40\n",
      "256/256 [==============================] - 7s 29ms/step - loss: 1.6066 - Hybrid_Classifier_loss: 1.1421 - Text_Classifier_loss: 0.4645 - Hybrid_Classifier_acc: 0.4063 - Hybrid_Classifier_mean_absolute_error: 0.3283 - Hybrid_Classifier_categorical_accuracy: 0.4063 - Text_Classifier_acc: 0.7969 - Text_Classifier_mean_absolute_error: 0.3162 - Text_Classifier_categorical_accuracy: 1.0000 - val_loss: 1.7394 - val_Hybrid_Classifier_loss: 1.1687 - val_Text_Classifier_loss: 0.5706 - val_Hybrid_Classifier_acc: 0.3281 - val_Hybrid_Classifier_mean_absolute_error: 0.3391 - val_Hybrid_Classifier_categorical_accuracy: 0.3281 - val_Text_Classifier_acc: 0.7031 - val_Text_Classifier_mean_absolute_error: 0.3857 - val_Text_Classifier_categorical_accuracy: 1.0000\n",
      "Epoch 17/40\n",
      "256/256 [==============================] - 7s 29ms/step - loss: 1.5750 - Hybrid_Classifier_loss: 1.1052 - Text_Classifier_loss: 0.4698 - Hybrid_Classifier_acc: 0.4727 - Hybrid_Classifier_mean_absolute_error: 0.3222 - Hybrid_Classifier_categorical_accuracy: 0.4727 - Text_Classifier_acc: 0.7812 - Text_Classifier_mean_absolute_error: 0.3171 - Text_Classifier_categorical_accuracy: 1.0000 - val_loss: 1.7360 - val_Hybrid_Classifier_loss: 1.1659 - val_Text_Classifier_loss: 0.5701 - val_Hybrid_Classifier_acc: 0.3438 - val_Hybrid_Classifier_mean_absolute_error: 0.3387 - val_Hybrid_Classifier_categorical_accuracy: 0.3438 - val_Text_Classifier_acc: 0.7187 - val_Text_Classifier_mean_absolute_error: 0.3758 - val_Text_Classifier_categorical_accuracy: 1.0000\n",
      "Epoch 18/40\n",
      "256/256 [==============================] - 7s 29ms/step - loss: 1.5928 - Hybrid_Classifier_loss: 1.1264 - Text_Classifier_loss: 0.4664 - Hybrid_Classifier_acc: 0.4805 - Hybrid_Classifier_mean_absolute_error: 0.3237 - Hybrid_Classifier_categorical_accuracy: 0.4805 - Text_Classifier_acc: 0.7813 - Text_Classifier_mean_absolute_error: 0.3153 - Text_Classifier_categorical_accuracy: 1.0000 - val_loss: 1.7322 - val_Hybrid_Classifier_loss: 1.1636 - val_Text_Classifier_loss: 0.5686 - val_Hybrid_Classifier_acc: 0.3281 - val_Hybrid_Classifier_mean_absolute_error: 0.3383 - val_Hybrid_Classifier_categorical_accuracy: 0.3281 - val_Text_Classifier_acc: 0.7031 - val_Text_Classifier_mean_absolute_error: 0.3772 - val_Text_Classifier_categorical_accuracy: 1.0000\n",
      "Epoch 19/40\n",
      "256/256 [==============================] - 7s 29ms/step - loss: 1.5418 - Hybrid_Classifier_loss: 1.0827 - Text_Classifier_loss: 0.4591 - Hybrid_Classifier_acc: 0.4766 - Hybrid_Classifier_mean_absolute_error: 0.3192 - Hybrid_Classifier_categorical_accuracy: 0.4766 - Text_Classifier_acc: 0.7930 - Text_Classifier_mean_absolute_error: 0.3065 - Text_Classifier_categorical_accuracy: 1.0000 - val_loss: 1.7251 - val_Hybrid_Classifier_loss: 1.1572 - val_Text_Classifier_loss: 0.5680 - val_Hybrid_Classifier_acc: 0.3750 - val_Hybrid_Classifier_mean_absolute_error: 0.3374 - val_Hybrid_Classifier_categorical_accuracy: 0.3750 - val_Text_Classifier_acc: 0.7187 - val_Text_Classifier_mean_absolute_error: 0.3734 - val_Text_Classifier_categorical_accuracy: 1.0000\n",
      "Epoch 20/40\n",
      "256/256 [==============================] - 7s 29ms/step - loss: 1.5094 - Hybrid_Classifier_loss: 1.0449 - Text_Classifier_loss: 0.4645 - Hybrid_Classifier_acc: 0.5234 - Hybrid_Classifier_mean_absolute_error: 0.3124 - Hybrid_Classifier_categorical_accuracy: 0.5234 - Text_Classifier_acc: 0.7969 - Text_Classifier_mean_absolute_error: 0.3091 - Text_Classifier_categorical_accuracy: 1.0000 - val_loss: 1.7204 - val_Hybrid_Classifier_loss: 1.1533 - val_Text_Classifier_loss: 0.5671 - val_Hybrid_Classifier_acc: 0.3750 - val_Hybrid_Classifier_mean_absolute_error: 0.3368 - val_Hybrid_Classifier_categorical_accuracy: 0.3750 - val_Text_Classifier_acc: 0.7031 - val_Text_Classifier_mean_absolute_error: 0.3749 - val_Text_Classifier_categorical_accuracy: 1.0000\n",
      "Epoch 21/40\n",
      "256/256 [==============================] - 7s 29ms/step - loss: 1.5345 - Hybrid_Classifier_loss: 1.0758 - Text_Classifier_loss: 0.4587 - Hybrid_Classifier_acc: 0.5195 - Hybrid_Classifier_mean_absolute_error: 0.3151 - Hybrid_Classifier_categorical_accuracy: 0.5195 - Text_Classifier_acc: 0.7852 - Text_Classifier_mean_absolute_error: 0.3058 - Text_Classifier_categorical_accuracy: 1.0000 - val_loss: 1.7156 - val_Hybrid_Classifier_loss: 1.1487 - val_Text_Classifier_loss: 0.5668 - val_Hybrid_Classifier_acc: 0.3594 - val_Hybrid_Classifier_mean_absolute_error: 0.3363 - val_Hybrid_Classifier_categorical_accuracy: 0.3594 - val_Text_Classifier_acc: 0.7031 - val_Text_Classifier_mean_absolute_error: 0.3769 - val_Text_Classifier_categorical_accuracy: 1.0000\n",
      "Epoch 22/40\n",
      "256/256 [==============================] - 7s 29ms/step - loss: 1.5365 - Hybrid_Classifier_loss: 1.0787 - Text_Classifier_loss: 0.4578 - Hybrid_Classifier_acc: 0.5234 - Hybrid_Classifier_mean_absolute_error: 0.3159 - Hybrid_Classifier_categorical_accuracy: 0.5234 - Text_Classifier_acc: 0.7891 - Text_Classifier_mean_absolute_error: 0.3077 - Text_Classifier_categorical_accuracy: 1.0000 - val_loss: 1.7116 - val_Hybrid_Classifier_loss: 1.1457 - val_Text_Classifier_loss: 0.5659 - val_Hybrid_Classifier_acc: 0.3906 - val_Hybrid_Classifier_mean_absolute_error: 0.3354 - val_Hybrid_Classifier_categorical_accuracy: 0.3906 - val_Text_Classifier_acc: 0.7031 - val_Text_Classifier_mean_absolute_error: 0.3736 - val_Text_Classifier_categorical_accuracy: 1.0000\n"
     ]
    },
    {
     "name": "stdout",
     "output_type": "stream",
     "text": [
      "Epoch 23/40\n",
      "256/256 [==============================] - 7s 29ms/step - loss: 1.5119 - Hybrid_Classifier_loss: 1.0670 - Text_Classifier_loss: 0.4449 - Hybrid_Classifier_acc: 0.5000 - Hybrid_Classifier_mean_absolute_error: 0.3131 - Hybrid_Classifier_categorical_accuracy: 0.5000 - Text_Classifier_acc: 0.7969 - Text_Classifier_mean_absolute_error: 0.3046 - Text_Classifier_categorical_accuracy: 1.0000 - val_loss: 1.7102 - val_Hybrid_Classifier_loss: 1.1442 - val_Text_Classifier_loss: 0.5660 - val_Hybrid_Classifier_acc: 0.3906 - val_Hybrid_Classifier_mean_absolute_error: 0.3345 - val_Hybrid_Classifier_categorical_accuracy: 0.3906 - val_Text_Classifier_acc: 0.7031 - val_Text_Classifier_mean_absolute_error: 0.3721 - val_Text_Classifier_categorical_accuracy: 1.0000\n",
      "Epoch 24/40\n",
      "256/256 [==============================] - 7s 29ms/step - loss: 1.4822 - Hybrid_Classifier_loss: 1.0084 - Text_Classifier_loss: 0.4739 - Hybrid_Classifier_acc: 0.6211 - Hybrid_Classifier_mean_absolute_error: 0.3037 - Hybrid_Classifier_categorical_accuracy: 0.6211 - Text_Classifier_acc: 0.7891 - Text_Classifier_mean_absolute_error: 0.3101 - Text_Classifier_categorical_accuracy: 1.0000 - val_loss: 1.7057 - val_Hybrid_Classifier_loss: 1.1424 - val_Text_Classifier_loss: 0.5633 - val_Hybrid_Classifier_acc: 0.4063 - val_Hybrid_Classifier_mean_absolute_error: 0.3338 - val_Hybrid_Classifier_categorical_accuracy: 0.4063 - val_Text_Classifier_acc: 0.7031 - val_Text_Classifier_mean_absolute_error: 0.3765 - val_Text_Classifier_categorical_accuracy: 1.0000\n",
      "Epoch 25/40\n",
      "256/256 [==============================] - 7s 29ms/step - loss: 1.4702 - Hybrid_Classifier_loss: 1.0311 - Text_Classifier_loss: 0.4391 - Hybrid_Classifier_acc: 0.5273 - Hybrid_Classifier_mean_absolute_error: 0.3079 - Hybrid_Classifier_categorical_accuracy: 0.5273 - Text_Classifier_acc: 0.7930 - Text_Classifier_mean_absolute_error: 0.3073 - Text_Classifier_categorical_accuracy: 1.0000 - val_loss: 1.7021 - val_Hybrid_Classifier_loss: 1.1405 - val_Text_Classifier_loss: 0.5616 - val_Hybrid_Classifier_acc: 0.3906 - val_Hybrid_Classifier_mean_absolute_error: 0.3331 - val_Hybrid_Classifier_categorical_accuracy: 0.3906 - val_Text_Classifier_acc: 0.7031 - val_Text_Classifier_mean_absolute_error: 0.3760 - val_Text_Classifier_categorical_accuracy: 1.0000\n",
      "Epoch 26/40\n",
      "256/256 [==============================] - 7s 29ms/step - loss: 1.4747 - Hybrid_Classifier_loss: 1.0397 - Text_Classifier_loss: 0.4350 - Hybrid_Classifier_acc: 0.5117 - Hybrid_Classifier_mean_absolute_error: 0.3086 - Hybrid_Classifier_categorical_accuracy: 0.5117 - Text_Classifier_acc: 0.8008 - Text_Classifier_mean_absolute_error: 0.2990 - Text_Classifier_categorical_accuracy: 1.0000 - val_loss: 1.6963 - val_Hybrid_Classifier_loss: 1.1365 - val_Text_Classifier_loss: 0.5597 - val_Hybrid_Classifier_acc: 0.3906 - val_Hybrid_Classifier_mean_absolute_error: 0.3317 - val_Hybrid_Classifier_categorical_accuracy: 0.3906 - val_Text_Classifier_acc: 0.7031 - val_Text_Classifier_mean_absolute_error: 0.3681 - val_Text_Classifier_categorical_accuracy: 1.0000\n",
      "Epoch 27/40\n",
      "256/256 [==============================] - 7s 29ms/step - loss: 1.4683 - Hybrid_Classifier_loss: 1.0324 - Text_Classifier_loss: 0.4359 - Hybrid_Classifier_acc: 0.5469 - Hybrid_Classifier_mean_absolute_error: 0.3064 - Hybrid_Classifier_categorical_accuracy: 0.5469 - Text_Classifier_acc: 0.8047 - Text_Classifier_mean_absolute_error: 0.2981 - Text_Classifier_categorical_accuracy: 1.0000 - val_loss: 1.6896 - val_Hybrid_Classifier_loss: 1.1325 - val_Text_Classifier_loss: 0.5571 - val_Hybrid_Classifier_acc: 0.3906 - val_Hybrid_Classifier_mean_absolute_error: 0.3312 - val_Hybrid_Classifier_categorical_accuracy: 0.3906 - val_Text_Classifier_acc: 0.7031 - val_Text_Classifier_mean_absolute_error: 0.3702 - val_Text_Classifier_categorical_accuracy: 1.0000\n",
      "Epoch 28/40\n",
      "256/256 [==============================] - 7s 29ms/step - loss: 1.4223 - Hybrid_Classifier_loss: 1.0000 - Text_Classifier_loss: 0.4223 - Hybrid_Classifier_acc: 0.5508 - Hybrid_Classifier_mean_absolute_error: 0.3004 - Hybrid_Classifier_categorical_accuracy: 0.5508 - Text_Classifier_acc: 0.8320 - Text_Classifier_mean_absolute_error: 0.2922 - Text_Classifier_categorical_accuracy: 1.0000 - val_loss: 1.6855 - val_Hybrid_Classifier_loss: 1.1300 - val_Text_Classifier_loss: 0.5556 - val_Hybrid_Classifier_acc: 0.3750 - val_Hybrid_Classifier_mean_absolute_error: 0.3296 - val_Hybrid_Classifier_categorical_accuracy: 0.3750 - val_Text_Classifier_acc: 0.7031 - val_Text_Classifier_mean_absolute_error: 0.3682 - val_Text_Classifier_categorical_accuracy: 1.0000\n",
      "Epoch 29/40\n",
      "256/256 [==============================] - 7s 29ms/step - loss: 1.4251 - Hybrid_Classifier_loss: 0.9899 - Text_Classifier_loss: 0.4352 - Hybrid_Classifier_acc: 0.5703 - Hybrid_Classifier_mean_absolute_error: 0.2981 - Hybrid_Classifier_categorical_accuracy: 0.5703 - Text_Classifier_acc: 0.8125 - Text_Classifier_mean_absolute_error: 0.2968 - Text_Classifier_categorical_accuracy: 1.0000 - val_loss: 1.6749 - val_Hybrid_Classifier_loss: 1.1194 - val_Text_Classifier_loss: 0.5555 - val_Hybrid_Classifier_acc: 0.4375 - val_Hybrid_Classifier_mean_absolute_error: 0.3289 - val_Hybrid_Classifier_categorical_accuracy: 0.4375 - val_Text_Classifier_acc: 0.7031 - val_Text_Classifier_mean_absolute_error: 0.3627 - val_Text_Classifier_categorical_accuracy: 1.0000\n",
      "Epoch 30/40\n",
      "256/256 [==============================] - 7s 29ms/step - loss: 1.4136 - Hybrid_Classifier_loss: 0.9925 - Text_Classifier_loss: 0.4211 - Hybrid_Classifier_acc: 0.5703 - Hybrid_Classifier_mean_absolute_error: 0.2997 - Hybrid_Classifier_categorical_accuracy: 0.5703 - Text_Classifier_acc: 0.8086 - Text_Classifier_mean_absolute_error: 0.2867 - Text_Classifier_categorical_accuracy: 1.0000 - val_loss: 1.6716 - val_Hybrid_Classifier_loss: 1.1175 - val_Text_Classifier_loss: 0.5542 - val_Hybrid_Classifier_acc: 0.4063 - val_Hybrid_Classifier_mean_absolute_error: 0.3282 - val_Hybrid_Classifier_categorical_accuracy: 0.4063 - val_Text_Classifier_acc: 0.7031 - val_Text_Classifier_mean_absolute_error: 0.3591 - val_Text_Classifier_categorical_accuracy: 1.0000\n",
      "Epoch 31/40\n",
      "256/256 [==============================] - 7s 29ms/step - loss: 1.4037 - Hybrid_Classifier_loss: 0.9953 - Text_Classifier_loss: 0.4083 - Hybrid_Classifier_acc: 0.5898 - Hybrid_Classifier_mean_absolute_error: 0.2967 - Hybrid_Classifier_categorical_accuracy: 0.5898 - Text_Classifier_acc: 0.8398 - Text_Classifier_mean_absolute_error: 0.2851 - Text_Classifier_categorical_accuracy: 1.0000 - val_loss: 1.6624 - val_Hybrid_Classifier_loss: 1.1115 - val_Text_Classifier_loss: 0.5508 - val_Hybrid_Classifier_acc: 0.4531 - val_Hybrid_Classifier_mean_absolute_error: 0.3270 - val_Hybrid_Classifier_categorical_accuracy: 0.4531 - val_Text_Classifier_acc: 0.7031 - val_Text_Classifier_mean_absolute_error: 0.3580 - val_Text_Classifier_categorical_accuracy: 1.0000\n",
      "Epoch 32/40\n",
      "256/256 [==============================] - 7s 29ms/step - loss: 1.3663 - Hybrid_Classifier_loss: 0.9641 - Text_Classifier_loss: 0.4022 - Hybrid_Classifier_acc: 0.5898 - Hybrid_Classifier_mean_absolute_error: 0.2929 - Hybrid_Classifier_categorical_accuracy: 0.5898 - Text_Classifier_acc: 0.8125 - Text_Classifier_mean_absolute_error: 0.2813 - Text_Classifier_categorical_accuracy: 1.0000 - val_loss: 1.6645 - val_Hybrid_Classifier_loss: 1.1146 - val_Text_Classifier_loss: 0.5498 - val_Hybrid_Classifier_acc: 0.4375 - val_Hybrid_Classifier_mean_absolute_error: 0.3263 - val_Hybrid_Classifier_categorical_accuracy: 0.4375 - val_Text_Classifier_acc: 0.7344 - val_Text_Classifier_mean_absolute_error: 0.3606 - val_Text_Classifier_categorical_accuracy: 1.0000\n",
      "Epoch 33/40\n",
      "256/256 [==============================] - 7s 29ms/step - loss: 1.3967 - Hybrid_Classifier_loss: 1.0027 - Text_Classifier_loss: 0.3940 - Hybrid_Classifier_acc: 0.5352 - Hybrid_Classifier_mean_absolute_error: 0.2972 - Hybrid_Classifier_categorical_accuracy: 0.5352 - Text_Classifier_acc: 0.8164 - Text_Classifier_mean_absolute_error: 0.2737 - Text_Classifier_categorical_accuracy: 1.0000 - val_loss: 1.6657 - val_Hybrid_Classifier_loss: 1.1156 - val_Text_Classifier_loss: 0.5501 - val_Hybrid_Classifier_acc: 0.4531 - val_Hybrid_Classifier_mean_absolute_error: 0.3261 - val_Hybrid_Classifier_categorical_accuracy: 0.4531 - val_Text_Classifier_acc: 0.7500 - val_Text_Classifier_mean_absolute_error: 0.3634 - val_Text_Classifier_categorical_accuracy: 1.0000\n"
     ]
    },
    {
     "name": "stdout",
     "output_type": "stream",
     "text": [
      "Epoch 34/40\n",
      "256/256 [==============================] - 7s 29ms/step - loss: 1.3263 - Hybrid_Classifier_loss: 0.9472 - Text_Classifier_loss: 0.3791 - Hybrid_Classifier_acc: 0.6328 - Hybrid_Classifier_mean_absolute_error: 0.2876 - Hybrid_Classifier_categorical_accuracy: 0.6328 - Text_Classifier_acc: 0.8242 - Text_Classifier_mean_absolute_error: 0.2700 - Text_Classifier_categorical_accuracy: 1.0000 - val_loss: 1.6648 - val_Hybrid_Classifier_loss: 1.1152 - val_Text_Classifier_loss: 0.5496 - val_Hybrid_Classifier_acc: 0.4375 - val_Hybrid_Classifier_mean_absolute_error: 0.3257 - val_Hybrid_Classifier_categorical_accuracy: 0.4375 - val_Text_Classifier_acc: 0.7500 - val_Text_Classifier_mean_absolute_error: 0.3546 - val_Text_Classifier_categorical_accuracy: 1.0000\n",
      "Epoch 35/40\n",
      "256/256 [==============================] - 7s 29ms/step - loss: 1.3313 - Hybrid_Classifier_loss: 0.9327 - Text_Classifier_loss: 0.3986 - Hybrid_Classifier_acc: 0.6055 - Hybrid_Classifier_mean_absolute_error: 0.2836 - Hybrid_Classifier_categorical_accuracy: 0.6055 - Text_Classifier_acc: 0.8242 - Text_Classifier_mean_absolute_error: 0.2760 - Text_Classifier_categorical_accuracy: 1.0000 - val_loss: 1.6599 - val_Hybrid_Classifier_loss: 1.1120 - val_Text_Classifier_loss: 0.5479 - val_Hybrid_Classifier_acc: 0.4375 - val_Hybrid_Classifier_mean_absolute_error: 0.3238 - val_Hybrid_Classifier_categorical_accuracy: 0.4375 - val_Text_Classifier_acc: 0.7656 - val_Text_Classifier_mean_absolute_error: 0.3564 - val_Text_Classifier_categorical_accuracy: 1.0000\n",
      "Epoch 36/40\n",
      "256/256 [==============================] - 7s 29ms/step - loss: 1.3535 - Hybrid_Classifier_loss: 0.9428 - Text_Classifier_loss: 0.4107 - Hybrid_Classifier_acc: 0.5898 - Hybrid_Classifier_mean_absolute_error: 0.2870 - Hybrid_Classifier_categorical_accuracy: 0.5898 - Text_Classifier_acc: 0.8359 - Text_Classifier_mean_absolute_error: 0.2852 - Text_Classifier_categorical_accuracy: 1.0000 - val_loss: 1.6623 - val_Hybrid_Classifier_loss: 1.1134 - val_Text_Classifier_loss: 0.5490 - val_Hybrid_Classifier_acc: 0.4219 - val_Hybrid_Classifier_mean_absolute_error: 0.3247 - val_Hybrid_Classifier_categorical_accuracy: 0.4219 - val_Text_Classifier_acc: 0.7500 - val_Text_Classifier_mean_absolute_error: 0.3561 - val_Text_Classifier_categorical_accuracy: 1.0000\n",
      "Epoch 37/40\n",
      "256/256 [==============================] - 7s 29ms/step - loss: 1.3140 - Hybrid_Classifier_loss: 0.9224 - Text_Classifier_loss: 0.3916 - Hybrid_Classifier_acc: 0.5938 - Hybrid_Classifier_mean_absolute_error: 0.2811 - Hybrid_Classifier_categorical_accuracy: 0.5938 - Text_Classifier_acc: 0.8516 - Text_Classifier_mean_absolute_error: 0.2680 - Text_Classifier_categorical_accuracy: 1.0000 - val_loss: 1.6669 - val_Hybrid_Classifier_loss: 1.1145 - val_Text_Classifier_loss: 0.5524 - val_Hybrid_Classifier_acc: 0.4219 - val_Hybrid_Classifier_mean_absolute_error: 0.3242 - val_Hybrid_Classifier_categorical_accuracy: 0.4219 - val_Text_Classifier_acc: 0.7656 - val_Text_Classifier_mean_absolute_error: 0.3447 - val_Text_Classifier_categorical_accuracy: 1.0000\n",
      "Epoch 38/40\n",
      "256/256 [==============================] - 7s 29ms/step - loss: 1.2682 - Hybrid_Classifier_loss: 0.9069 - Text_Classifier_loss: 0.3613 - Hybrid_Classifier_acc: 0.6563 - Hybrid_Classifier_mean_absolute_error: 0.2759 - Hybrid_Classifier_categorical_accuracy: 0.6563 - Text_Classifier_acc: 0.8320 - Text_Classifier_mean_absolute_error: 0.2601 - Text_Classifier_categorical_accuracy: 1.0000 - val_loss: 1.6620 - val_Hybrid_Classifier_loss: 1.1128 - val_Text_Classifier_loss: 0.5492 - val_Hybrid_Classifier_acc: 0.4063 - val_Hybrid_Classifier_mean_absolute_error: 0.3233 - val_Hybrid_Classifier_categorical_accuracy: 0.4063 - val_Text_Classifier_acc: 0.7500 - val_Text_Classifier_mean_absolute_error: 0.3487 - val_Text_Classifier_categorical_accuracy: 1.0000\n",
      "Epoch 39/40\n",
      "256/256 [==============================] - 7s 29ms/step - loss: 1.2443 - Hybrid_Classifier_loss: 0.8865 - Text_Classifier_loss: 0.3578 - Hybrid_Classifier_acc: 0.6602 - Hybrid_Classifier_mean_absolute_error: 0.2737 - Hybrid_Classifier_categorical_accuracy: 0.6602 - Text_Classifier_acc: 0.8477 - Text_Classifier_mean_absolute_error: 0.2545 - Text_Classifier_categorical_accuracy: 1.0000 - val_loss: 1.6664 - val_Hybrid_Classifier_loss: 1.1140 - val_Text_Classifier_loss: 0.5524 - val_Hybrid_Classifier_acc: 0.4375 - val_Hybrid_Classifier_mean_absolute_error: 0.3219 - val_Hybrid_Classifier_categorical_accuracy: 0.4375 - val_Text_Classifier_acc: 0.7656 - val_Text_Classifier_mean_absolute_error: 0.3432 - val_Text_Classifier_categorical_accuracy: 1.0000\n",
      "Epoch 40/40\n",
      "256/256 [==============================] - 7s 29ms/step - loss: 1.2332 - Hybrid_Classifier_loss: 0.8996 - Text_Classifier_loss: 0.3336 - Hybrid_Classifier_acc: 0.6328 - Hybrid_Classifier_mean_absolute_error: 0.2741 - Hybrid_Classifier_categorical_accuracy: 0.6328 - Text_Classifier_acc: 0.8867 - Text_Classifier_mean_absolute_error: 0.2471 - Text_Classifier_categorical_accuracy: 1.0000 - val_loss: 1.6547 - val_Hybrid_Classifier_loss: 1.1045 - val_Text_Classifier_loss: 0.5503 - val_Hybrid_Classifier_acc: 0.4375 - val_Hybrid_Classifier_mean_absolute_error: 0.3205 - val_Hybrid_Classifier_categorical_accuracy: 0.4375 - val_Text_Classifier_acc: 0.7500 - val_Text_Classifier_mean_absolute_error: 0.3476 - val_Text_Classifier_categorical_accuracy: 1.0000\n"
     ]
    }
   ],
   "source": [
    "start = time.time()\n",
    "\n",
    "hybrid_history = hybrid_model.fit(x=[train_images,cnn_texts_mat], y=[y,tags],\n",
    "                           epochs=40,\n",
    "                           batch_size=10,\n",
    "                           validation_split=0.2,\n",
    "                           shuffle=True,\n",
    "                           verbose=1)\n",
    "hybrid_time = time.time() - start\n"
   ]
  },
  {
   "cell_type": "code",
   "execution_count": 19,
   "metadata": {},
   "outputs": [],
   "source": [
    "config = tf.ConfigProto()\n",
    "config.gpu_options.allow_growth=True\n",
    "sess = tf.Session(config=config)"
   ]
  },
  {
   "cell_type": "code",
   "execution_count": 20,
   "metadata": {},
   "outputs": [
    {
     "name": "stdout",
     "output_type": "stream",
     "text": [
      "Train on 256 samples, validate on 64 samples\n",
      "Epoch 1/40\n"
     ]
    },
    {
     "ename": "ResourceExhaustedError",
     "evalue": "OOM when allocating tensor with shape[25088,4096] and type float on /job:localhost/replica:0/task:0/device:GPU:0 by allocator GPU_0_bfc\n\t [[{{node training_1/Adam/mul_132}} = Mul[T=DT_FLOAT, _device=\"/job:localhost/replica:0/task:0/device:GPU:0\"](training_1/Adam/sub_14, training_1/Adam/gradients/fc1_1/MatMul_grad/MatMul_1)]]\nHint: If you want to see a list of allocated tensors when OOM happens, add report_tensor_allocations_upon_oom to RunOptions for current allocation info.\n",
     "output_type": "error",
     "traceback": [
      "\u001b[1;31m---------------------------------------------------------------------------\u001b[0m",
      "\u001b[1;31mResourceExhaustedError\u001b[0m                    Traceback (most recent call last)",
      "\u001b[1;32m<ipython-input-20-d5cbd8d16c71>\u001b[0m in \u001b[0;36m<module>\u001b[1;34m\u001b[0m\n\u001b[0;32m      6\u001b[0m                            \u001b[0mvalidation_split\u001b[0m\u001b[1;33m=\u001b[0m\u001b[1;36m0.2\u001b[0m\u001b[1;33m,\u001b[0m\u001b[1;33m\u001b[0m\u001b[1;33m\u001b[0m\u001b[0m\n\u001b[0;32m      7\u001b[0m                            \u001b[0mshuffle\u001b[0m\u001b[1;33m=\u001b[0m\u001b[1;32mTrue\u001b[0m\u001b[1;33m,\u001b[0m\u001b[1;33m\u001b[0m\u001b[1;33m\u001b[0m\u001b[0m\n\u001b[1;32m----> 8\u001b[1;33m                            verbose=1)\n\u001b[0m\u001b[0;32m      9\u001b[0m \u001b[0mvgg_time\u001b[0m \u001b[1;33m=\u001b[0m \u001b[0mtime\u001b[0m\u001b[1;33m.\u001b[0m\u001b[0mtime\u001b[0m\u001b[1;33m(\u001b[0m\u001b[1;33m)\u001b[0m \u001b[1;33m-\u001b[0m \u001b[0mstart\u001b[0m\u001b[1;33m\u001b[0m\u001b[1;33m\u001b[0m\u001b[0m\n",
      "\u001b[1;32m~\\AppData\\Local\\conda\\conda\\envs\\tf_gpu\\lib\\site-packages\\keras\\engine\\training.py\u001b[0m in \u001b[0;36mfit\u001b[1;34m(self, x, y, batch_size, epochs, verbose, callbacks, validation_split, validation_data, shuffle, class_weight, sample_weight, initial_epoch, steps_per_epoch, validation_steps, **kwargs)\u001b[0m\n\u001b[0;32m   1037\u001b[0m                                         \u001b[0minitial_epoch\u001b[0m\u001b[1;33m=\u001b[0m\u001b[0minitial_epoch\u001b[0m\u001b[1;33m,\u001b[0m\u001b[1;33m\u001b[0m\u001b[1;33m\u001b[0m\u001b[0m\n\u001b[0;32m   1038\u001b[0m                                         \u001b[0msteps_per_epoch\u001b[0m\u001b[1;33m=\u001b[0m\u001b[0msteps_per_epoch\u001b[0m\u001b[1;33m,\u001b[0m\u001b[1;33m\u001b[0m\u001b[1;33m\u001b[0m\u001b[0m\n\u001b[1;32m-> 1039\u001b[1;33m                                         validation_steps=validation_steps)\n\u001b[0m\u001b[0;32m   1040\u001b[0m \u001b[1;33m\u001b[0m\u001b[0m\n\u001b[0;32m   1041\u001b[0m     def evaluate(self, x=None, y=None,\n",
      "\u001b[1;32m~\\AppData\\Local\\conda\\conda\\envs\\tf_gpu\\lib\\site-packages\\keras\\engine\\training_arrays.py\u001b[0m in \u001b[0;36mfit_loop\u001b[1;34m(model, f, ins, out_labels, batch_size, epochs, verbose, callbacks, val_f, val_ins, shuffle, callback_metrics, initial_epoch, steps_per_epoch, validation_steps)\u001b[0m\n\u001b[0;32m    197\u001b[0m                     \u001b[0mins_batch\u001b[0m\u001b[1;33m[\u001b[0m\u001b[0mi\u001b[0m\u001b[1;33m]\u001b[0m \u001b[1;33m=\u001b[0m \u001b[0mins_batch\u001b[0m\u001b[1;33m[\u001b[0m\u001b[0mi\u001b[0m\u001b[1;33m]\u001b[0m\u001b[1;33m.\u001b[0m\u001b[0mtoarray\u001b[0m\u001b[1;33m(\u001b[0m\u001b[1;33m)\u001b[0m\u001b[1;33m\u001b[0m\u001b[1;33m\u001b[0m\u001b[0m\n\u001b[0;32m    198\u001b[0m \u001b[1;33m\u001b[0m\u001b[0m\n\u001b[1;32m--> 199\u001b[1;33m                 \u001b[0mouts\u001b[0m \u001b[1;33m=\u001b[0m \u001b[0mf\u001b[0m\u001b[1;33m(\u001b[0m\u001b[0mins_batch\u001b[0m\u001b[1;33m)\u001b[0m\u001b[1;33m\u001b[0m\u001b[1;33m\u001b[0m\u001b[0m\n\u001b[0m\u001b[0;32m    200\u001b[0m                 \u001b[0mouts\u001b[0m \u001b[1;33m=\u001b[0m \u001b[0mto_list\u001b[0m\u001b[1;33m(\u001b[0m\u001b[0mouts\u001b[0m\u001b[1;33m)\u001b[0m\u001b[1;33m\u001b[0m\u001b[1;33m\u001b[0m\u001b[0m\n\u001b[0;32m    201\u001b[0m                 \u001b[1;32mfor\u001b[0m \u001b[0ml\u001b[0m\u001b[1;33m,\u001b[0m \u001b[0mo\u001b[0m \u001b[1;32min\u001b[0m \u001b[0mzip\u001b[0m\u001b[1;33m(\u001b[0m\u001b[0mout_labels\u001b[0m\u001b[1;33m,\u001b[0m \u001b[0mouts\u001b[0m\u001b[1;33m)\u001b[0m\u001b[1;33m:\u001b[0m\u001b[1;33m\u001b[0m\u001b[1;33m\u001b[0m\u001b[0m\n",
      "\u001b[1;32m~\\AppData\\Local\\conda\\conda\\envs\\tf_gpu\\lib\\site-packages\\keras\\backend\\tensorflow_backend.py\u001b[0m in \u001b[0;36m__call__\u001b[1;34m(self, inputs)\u001b[0m\n\u001b[0;32m   2713\u001b[0m                 \u001b[1;32mreturn\u001b[0m \u001b[0mself\u001b[0m\u001b[1;33m.\u001b[0m\u001b[0m_legacy_call\u001b[0m\u001b[1;33m(\u001b[0m\u001b[0minputs\u001b[0m\u001b[1;33m)\u001b[0m\u001b[1;33m\u001b[0m\u001b[1;33m\u001b[0m\u001b[0m\n\u001b[0;32m   2714\u001b[0m \u001b[1;33m\u001b[0m\u001b[0m\n\u001b[1;32m-> 2715\u001b[1;33m             \u001b[1;32mreturn\u001b[0m \u001b[0mself\u001b[0m\u001b[1;33m.\u001b[0m\u001b[0m_call\u001b[0m\u001b[1;33m(\u001b[0m\u001b[0minputs\u001b[0m\u001b[1;33m)\u001b[0m\u001b[1;33m\u001b[0m\u001b[1;33m\u001b[0m\u001b[0m\n\u001b[0m\u001b[0;32m   2716\u001b[0m         \u001b[1;32melse\u001b[0m\u001b[1;33m:\u001b[0m\u001b[1;33m\u001b[0m\u001b[1;33m\u001b[0m\u001b[0m\n\u001b[0;32m   2717\u001b[0m             \u001b[1;32mif\u001b[0m \u001b[0mpy_any\u001b[0m\u001b[1;33m(\u001b[0m\u001b[0mis_tensor\u001b[0m\u001b[1;33m(\u001b[0m\u001b[0mx\u001b[0m\u001b[1;33m)\u001b[0m \u001b[1;32mfor\u001b[0m \u001b[0mx\u001b[0m \u001b[1;32min\u001b[0m \u001b[0minputs\u001b[0m\u001b[1;33m)\u001b[0m\u001b[1;33m:\u001b[0m\u001b[1;33m\u001b[0m\u001b[1;33m\u001b[0m\u001b[0m\n",
      "\u001b[1;32m~\\AppData\\Local\\conda\\conda\\envs\\tf_gpu\\lib\\site-packages\\keras\\backend\\tensorflow_backend.py\u001b[0m in \u001b[0;36m_call\u001b[1;34m(self, inputs)\u001b[0m\n\u001b[0;32m   2673\u001b[0m             \u001b[0mfetched\u001b[0m \u001b[1;33m=\u001b[0m \u001b[0mself\u001b[0m\u001b[1;33m.\u001b[0m\u001b[0m_callable_fn\u001b[0m\u001b[1;33m(\u001b[0m\u001b[1;33m*\u001b[0m\u001b[0marray_vals\u001b[0m\u001b[1;33m,\u001b[0m \u001b[0mrun_metadata\u001b[0m\u001b[1;33m=\u001b[0m\u001b[0mself\u001b[0m\u001b[1;33m.\u001b[0m\u001b[0mrun_metadata\u001b[0m\u001b[1;33m)\u001b[0m\u001b[1;33m\u001b[0m\u001b[1;33m\u001b[0m\u001b[0m\n\u001b[0;32m   2674\u001b[0m         \u001b[1;32melse\u001b[0m\u001b[1;33m:\u001b[0m\u001b[1;33m\u001b[0m\u001b[1;33m\u001b[0m\u001b[0m\n\u001b[1;32m-> 2675\u001b[1;33m             \u001b[0mfetched\u001b[0m \u001b[1;33m=\u001b[0m \u001b[0mself\u001b[0m\u001b[1;33m.\u001b[0m\u001b[0m_callable_fn\u001b[0m\u001b[1;33m(\u001b[0m\u001b[1;33m*\u001b[0m\u001b[0marray_vals\u001b[0m\u001b[1;33m)\u001b[0m\u001b[1;33m\u001b[0m\u001b[1;33m\u001b[0m\u001b[0m\n\u001b[0m\u001b[0;32m   2676\u001b[0m         \u001b[1;32mreturn\u001b[0m \u001b[0mfetched\u001b[0m\u001b[1;33m[\u001b[0m\u001b[1;33m:\u001b[0m\u001b[0mlen\u001b[0m\u001b[1;33m(\u001b[0m\u001b[0mself\u001b[0m\u001b[1;33m.\u001b[0m\u001b[0moutputs\u001b[0m\u001b[1;33m)\u001b[0m\u001b[1;33m]\u001b[0m\u001b[1;33m\u001b[0m\u001b[1;33m\u001b[0m\u001b[0m\n\u001b[0;32m   2677\u001b[0m \u001b[1;33m\u001b[0m\u001b[0m\n",
      "\u001b[1;32m~\\AppData\\Local\\conda\\conda\\envs\\tf_gpu\\lib\\site-packages\\tensorflow\\python\\client\\session.py\u001b[0m in \u001b[0;36m__call__\u001b[1;34m(self, *args, **kwargs)\u001b[0m\n\u001b[0;32m   1437\u001b[0m           ret = tf_session.TF_SessionRunCallable(\n\u001b[0;32m   1438\u001b[0m               \u001b[0mself\u001b[0m\u001b[1;33m.\u001b[0m\u001b[0m_session\u001b[0m\u001b[1;33m.\u001b[0m\u001b[0m_session\u001b[0m\u001b[1;33m,\u001b[0m \u001b[0mself\u001b[0m\u001b[1;33m.\u001b[0m\u001b[0m_handle\u001b[0m\u001b[1;33m,\u001b[0m \u001b[0margs\u001b[0m\u001b[1;33m,\u001b[0m \u001b[0mstatus\u001b[0m\u001b[1;33m,\u001b[0m\u001b[1;33m\u001b[0m\u001b[1;33m\u001b[0m\u001b[0m\n\u001b[1;32m-> 1439\u001b[1;33m               run_metadata_ptr)\n\u001b[0m\u001b[0;32m   1440\u001b[0m         \u001b[1;32mif\u001b[0m \u001b[0mrun_metadata\u001b[0m\u001b[1;33m:\u001b[0m\u001b[1;33m\u001b[0m\u001b[1;33m\u001b[0m\u001b[0m\n\u001b[0;32m   1441\u001b[0m           \u001b[0mproto_data\u001b[0m \u001b[1;33m=\u001b[0m \u001b[0mtf_session\u001b[0m\u001b[1;33m.\u001b[0m\u001b[0mTF_GetBuffer\u001b[0m\u001b[1;33m(\u001b[0m\u001b[0mrun_metadata_ptr\u001b[0m\u001b[1;33m)\u001b[0m\u001b[1;33m\u001b[0m\u001b[1;33m\u001b[0m\u001b[0m\n",
      "\u001b[1;32m~\\AppData\\Local\\conda\\conda\\envs\\tf_gpu\\lib\\site-packages\\tensorflow\\python\\framework\\errors_impl.py\u001b[0m in \u001b[0;36m__exit__\u001b[1;34m(self, type_arg, value_arg, traceback_arg)\u001b[0m\n\u001b[0;32m    526\u001b[0m             \u001b[1;32mNone\u001b[0m\u001b[1;33m,\u001b[0m \u001b[1;32mNone\u001b[0m\u001b[1;33m,\u001b[0m\u001b[1;33m\u001b[0m\u001b[1;33m\u001b[0m\u001b[0m\n\u001b[0;32m    527\u001b[0m             \u001b[0mcompat\u001b[0m\u001b[1;33m.\u001b[0m\u001b[0mas_text\u001b[0m\u001b[1;33m(\u001b[0m\u001b[0mc_api\u001b[0m\u001b[1;33m.\u001b[0m\u001b[0mTF_Message\u001b[0m\u001b[1;33m(\u001b[0m\u001b[0mself\u001b[0m\u001b[1;33m.\u001b[0m\u001b[0mstatus\u001b[0m\u001b[1;33m.\u001b[0m\u001b[0mstatus\u001b[0m\u001b[1;33m)\u001b[0m\u001b[1;33m)\u001b[0m\u001b[1;33m,\u001b[0m\u001b[1;33m\u001b[0m\u001b[1;33m\u001b[0m\u001b[0m\n\u001b[1;32m--> 528\u001b[1;33m             c_api.TF_GetCode(self.status.status))\n\u001b[0m\u001b[0;32m    529\u001b[0m     \u001b[1;31m# Delete the underlying status object from memory otherwise it stays alive\u001b[0m\u001b[1;33m\u001b[0m\u001b[1;33m\u001b[0m\u001b[1;33m\u001b[0m\u001b[0m\n\u001b[0;32m    530\u001b[0m     \u001b[1;31m# as there is a reference to status from this from the traceback due to\u001b[0m\u001b[1;33m\u001b[0m\u001b[1;33m\u001b[0m\u001b[1;33m\u001b[0m\u001b[0m\n",
      "\u001b[1;31mResourceExhaustedError\u001b[0m: OOM when allocating tensor with shape[25088,4096] and type float on /job:localhost/replica:0/task:0/device:GPU:0 by allocator GPU_0_bfc\n\t [[{{node training_1/Adam/mul_132}} = Mul[T=DT_FLOAT, _device=\"/job:localhost/replica:0/task:0/device:GPU:0\"](training_1/Adam/sub_14, training_1/Adam/gradients/fc1_1/MatMul_grad/MatMul_1)]]\nHint: If you want to see a list of allocated tensors when OOM happens, add report_tensor_allocations_upon_oom to RunOptions for current allocation info.\n"
     ]
    }
   ],
   "source": [
    "start = time.time()\n",
    "\n",
    "vgg_history = vgg_model.fit(x=[train_images], y=[y],\n",
    "                           epochs=40,\n",
    "                           batch_size=10,\n",
    "                           validation_split=0.2,\n",
    "                           shuffle=True,\n",
    "                           verbose=1)\n",
    "vgg_time = time.time() - start"
   ]
  },
  {
   "cell_type": "code",
   "execution_count": 21,
   "metadata": {},
   "outputs": [
    {
     "name": "stdout",
     "output_type": "stream",
     "text": [
      "Hybrid train time 326.57368779182434\n"
     ]
    },
    {
     "ename": "NameError",
     "evalue": "name 'vgg_time' is not defined",
     "output_type": "error",
     "traceback": [
      "\u001b[1;31m---------------------------------------------------------------------------\u001b[0m",
      "\u001b[1;31mNameError\u001b[0m                                 Traceback (most recent call last)",
      "\u001b[1;32m<ipython-input-21-24ecd8cbf0c2>\u001b[0m in \u001b[0;36m<module>\u001b[1;34m\u001b[0m\n\u001b[0;32m      1\u001b[0m \u001b[0mprint\u001b[0m\u001b[1;33m(\u001b[0m\u001b[1;34m'Hybrid train time '\u001b[0m \u001b[1;33m+\u001b[0m \u001b[0mstr\u001b[0m\u001b[1;33m(\u001b[0m\u001b[0mhybrid_time\u001b[0m\u001b[1;33m)\u001b[0m\u001b[1;33m)\u001b[0m\u001b[1;33m\u001b[0m\u001b[1;33m\u001b[0m\u001b[0m\n\u001b[1;32m----> 2\u001b[1;33m \u001b[0mprint\u001b[0m\u001b[1;33m(\u001b[0m\u001b[1;34m'vgg train time '\u001b[0m \u001b[1;33m+\u001b[0m \u001b[0mstr\u001b[0m\u001b[1;33m(\u001b[0m\u001b[0mvgg_time\u001b[0m\u001b[1;33m)\u001b[0m\u001b[1;33m)\u001b[0m\u001b[1;33m\u001b[0m\u001b[1;33m\u001b[0m\u001b[0m\n\u001b[0m",
      "\u001b[1;31mNameError\u001b[0m: name 'vgg_time' is not defined"
     ]
    }
   ],
   "source": [
    "print('Hybrid train time ' + str(hybrid_time))\n",
    "print('vgg train time ' + str(vgg_time))"
   ]
  },
  {
   "cell_type": "code",
   "execution_count": 22,
   "metadata": {},
   "outputs": [],
   "source": [
    "hybrid_model.save_weights('hybrid_only.h5')\n",
    "#vgg_model.save_weights('vgg.h5')"
   ]
  },
  {
   "cell_type": "code",
   "execution_count": null,
   "metadata": {},
   "outputs": [],
   "source": []
  }
 ],
 "metadata": {
  "kernelspec": {
   "display_name": "Python 3",
   "language": "python",
   "name": "python3"
  },
  "language_info": {
   "codemirror_mode": {
    "name": "ipython",
    "version": 3
   },
   "file_extension": ".py",
   "mimetype": "text/x-python",
   "name": "python",
   "nbconvert_exporter": "python",
   "pygments_lexer": "ipython3",
   "version": "3.6.8"
  }
 },
 "nbformat": 4,
 "nbformat_minor": 2
}
